{
 "cells": [
  {
   "cell_type": "markdown",
   "metadata": {},
   "source": [
    "# 과제. BeautifulSoup을 이용하여 아래의 세 기사의 제목과 언론사를 크롤링해주세요!\n",
    "* for문을 이용하여 url 각각의 기사제목과 언론사를 가져와주세요\n",
    "* 가져온 정보를 아래와 같이 DataFrame으로 만들어 주세요"
   ]
  },
  {
   "cell_type": "markdown",
   "metadata": {},
   "source": [
    "|title|company|url|\n",
    "|------|---|---|\n",
    "|13일부터 마스크 착용 의무화..한 달 계도 후 과태료 10만 원|YTN|https://news.v.daum.net/v/20201004215700006|\n",
    "|\"사망 10대와 같은 곳서 같은 백신 접종한 32명, 이상반응 없어\"|연합뉴스|https://news.v.daum.net/v/20201020153505519|\n",
    "|지하수에 사는 '골룸 가물치'야, 넌 어디서 왔니|한겨레|https://news.v.daum.net/v/20201020153609574|\n",
    "\n"
   ]
  },
  {
   "cell_type": "code",
   "execution_count": 1,
   "metadata": {},
   "outputs": [
    {
     "data": {
      "text/plain": [
       "['https://news.v.daum.net/v/20201004215700006',\n",
       " 'https://news.v.daum.net/v/20201020153505519',\n",
       " 'https://news.v.daum.net/v/20201020153609574']"
      ]
     },
     "execution_count": 1,
     "metadata": {},
     "output_type": "execute_result"
    }
   ],
   "source": [
    "crawl_url = [\"https://news.v.daum.net/v/20201004215700006\", \"https://news.v.daum.net/v/20201020153505519\", \"https://news.v.daum.net/v/20201020153609574\"]\n",
    "crawl_url"
   ]
  },
  {
   "cell_type": "code",
   "execution_count": 11,
   "metadata": {},
   "outputs": [],
   "source": [
    "import requests\n",
    "from bs4 import BeautifulSoup as bs"
   ]
  },
  {
   "cell_type": "code",
   "execution_count": 30,
   "metadata": {},
   "outputs": [],
   "source": [
    "res1 = requests.get(\"https://news.v.daum.net/v/20201004215700006\")\n",
    "soup1 = bs(res1.content, 'html.parser')\n",
    "list1 = [soup1.select('#cSub > div > h3')[0].text, \n",
    "         (soup1.select('#mArticle > div.foot_view > div.cp_view > strong')[0].text).split()[0]]\n",
    "\n",
    "res2 = requests.get(\"https://news.v.daum.net/v/20201020153505519\")\n",
    "soup2 = bs(res2.content, 'html.parser')\n",
    "list2 = [soup2.select('#cSub > div > h3')[0].text, \n",
    "         (soup2.select('#mArticle > div.foot_view > div.cp_view > strong')[0].text).split()[0]]\n",
    "\n",
    "res3 = requests.get(\"https://news.v.daum.net/v/20201020153609574\")\n",
    "soup3 = bs(res3.content, 'html.parser')\n",
    "list3 = [soup3.select('#cSub > div > h3')[0].text, \n",
    "         (soup3.select('#mArticle > div.foot_view > div.cp_view > strong')[0].text).split()[0]]"
   ]
  },
  {
   "cell_type": "code",
   "execution_count": 33,
   "metadata": {},
   "outputs": [
    {
     "data": {
      "text/html": [
       "<div>\n",
       "<style scoped>\n",
       "    .dataframe tbody tr th:only-of-type {\n",
       "        vertical-align: middle;\n",
       "    }\n",
       "\n",
       "    .dataframe tbody tr th {\n",
       "        vertical-align: top;\n",
       "    }\n",
       "\n",
       "    .dataframe thead th {\n",
       "        text-align: right;\n",
       "    }\n",
       "</style>\n",
       "<table border=\"1\" class=\"dataframe\">\n",
       "  <thead>\n",
       "    <tr style=\"text-align: right;\">\n",
       "      <th></th>\n",
       "      <th>title</th>\n",
       "      <th>company</th>\n",
       "      <th>url</th>\n",
       "    </tr>\n",
       "  </thead>\n",
       "  <tbody>\n",
       "    <tr>\n",
       "      <th>0</th>\n",
       "      <td>13일부터 마스크 착용 의무화..한 달 계도 후 과태료 10만 원</td>\n",
       "      <td>YTN</td>\n",
       "      <td>https://news.v.daum.net/v/20201004215700006</td>\n",
       "    </tr>\n",
       "    <tr>\n",
       "      <th>1</th>\n",
       "      <td>\"사망 10대와 같은 곳서 같은 백신 접종한 32명, 이상반응 없어\"</td>\n",
       "      <td>연합뉴스</td>\n",
       "      <td>https://news.v.daum.net/v/20201020153505519</td>\n",
       "    </tr>\n",
       "    <tr>\n",
       "      <th>2</th>\n",
       "      <td>지하수에 사는 '골룸 가물치'야, 넌 어디서 왔니</td>\n",
       "      <td>한겨레</td>\n",
       "      <td>https://news.v.daum.net/v/20201020153609574</td>\n",
       "    </tr>\n",
       "  </tbody>\n",
       "</table>\n",
       "</div>"
      ],
      "text/plain": [
       "                                    title company  \\\n",
       "0    13일부터 마스크 착용 의무화..한 달 계도 후 과태료 10만 원     YTN   \n",
       "1  \"사망 10대와 같은 곳서 같은 백신 접종한 32명, 이상반응 없어\"    연합뉴스   \n",
       "2             지하수에 사는 '골룸 가물치'야, 넌 어디서 왔니     한겨레   \n",
       "\n",
       "                                           url  \n",
       "0  https://news.v.daum.net/v/20201004215700006  \n",
       "1  https://news.v.daum.net/v/20201020153505519  \n",
       "2  https://news.v.daum.net/v/20201020153609574  "
      ]
     },
     "execution_count": 33,
     "metadata": {},
     "output_type": "execute_result"
    }
   ],
   "source": [
    "import pandas as pd\n",
    "df = pd.DataFrame({'title':[soup1.select('#cSub > div > h3')[0].text, \n",
    "                            soup2.select('#cSub > div > h3')[0].text, \n",
    "                            soup3.select('#cSub > div > h3')[0].text],\n",
    "                   'company':[(soup1.select('#mArticle > div.foot_view > div.cp_view > strong')[0].text).split()[0],\n",
    "                              (soup2.select('#mArticle > div.foot_view > div.cp_view > strong')[0].text).split()[0],\n",
    "                              (soup3.select('#mArticle > div.foot_view > div.cp_view > strong')[0].text).split()[0]],\n",
    "                   'url':crawl_url})\n",
    "df"
   ]
  },
  {
   "cell_type": "code",
   "execution_count": 24,
   "metadata": {},
   "outputs": [
    {
     "name": "stdout",
     "output_type": "stream",
     "text": [
      "https://news.v.daum.net/v/20201004215700006\n",
      "https://news.v.daum.net/v/20201020153505519\n",
      "https://news.v.daum.net/v/20201020153609574\n"
     ]
    }
   ],
   "source": [
    "for i in crawl_url:\n",
    "    requests.get(i)\n",
    "    "
   ]
  },
  {
   "cell_type": "code",
   "execution_count": null,
   "metadata": {},
   "outputs": [],
   "source": []
  }
 ],
 "metadata": {
  "kernelspec": {
   "display_name": "Python 3",
   "language": "python",
   "name": "python3"
  },
  "language_info": {
   "codemirror_mode": {
    "name": "ipython",
    "version": 3
   },
   "file_extension": ".py",
   "mimetype": "text/x-python",
   "name": "python",
   "nbconvert_exporter": "python",
   "pygments_lexer": "ipython3",
   "version": "3.8.3"
  },
  "toc": {
   "base_numbering": 1,
   "nav_menu": {},
   "number_sections": true,
   "sideBar": true,
   "skip_h1_title": false,
   "title_cell": "Table of Contents",
   "title_sidebar": "Contents",
   "toc_cell": false,
   "toc_position": {},
   "toc_section_display": true,
   "toc_window_display": false
  }
 },
 "nbformat": 4,
 "nbformat_minor": 4
}

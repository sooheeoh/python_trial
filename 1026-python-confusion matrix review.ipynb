{
 "cells": [
  {
   "cell_type": "code",
   "execution_count": 2,
   "metadata": {},
   "outputs": [],
   "source": [
    "import pandas as pd"
   ]
  },
  {
   "cell_type": "code",
   "execution_count": 3,
   "metadata": {},
   "outputs": [
    {
     "data": {
      "text/html": [
       "<div>\n",
       "<style scoped>\n",
       "    .dataframe tbody tr th:only-of-type {\n",
       "        vertical-align: middle;\n",
       "    }\n",
       "\n",
       "    .dataframe tbody tr th {\n",
       "        vertical-align: top;\n",
       "    }\n",
       "\n",
       "    .dataframe thead th {\n",
       "        text-align: right;\n",
       "    }\n",
       "</style>\n",
       "<table border=\"1\" class=\"dataframe\">\n",
       "  <thead>\n",
       "    <tr style=\"text-align: right;\">\n",
       "      <th></th>\n",
       "      <th>mileage</th>\n",
       "      <th>model</th>\n",
       "      <th>price</th>\n",
       "      <th>year</th>\n",
       "      <th>my_car_damage</th>\n",
       "      <th>other_car_damage</th>\n",
       "    </tr>\n",
       "  </thead>\n",
       "  <tbody>\n",
       "    <tr>\n",
       "      <th>0</th>\n",
       "      <td>63608</td>\n",
       "      <td>K3</td>\n",
       "      <td>970</td>\n",
       "      <td>2017</td>\n",
       "      <td>0</td>\n",
       "      <td>564596</td>\n",
       "    </tr>\n",
       "    <tr>\n",
       "      <th>1</th>\n",
       "      <td>69336</td>\n",
       "      <td>K3</td>\n",
       "      <td>1130</td>\n",
       "      <td>2015</td>\n",
       "      <td>1839700</td>\n",
       "      <td>1140150</td>\n",
       "    </tr>\n",
       "    <tr>\n",
       "      <th>2</th>\n",
       "      <td>36000</td>\n",
       "      <td>K3</td>\n",
       "      <td>1380</td>\n",
       "      <td>2016</td>\n",
       "      <td>446520</td>\n",
       "      <td>2244910</td>\n",
       "    </tr>\n",
       "    <tr>\n",
       "      <th>3</th>\n",
       "      <td>19029</td>\n",
       "      <td>K3</td>\n",
       "      <td>1390</td>\n",
       "      <td>2017</td>\n",
       "      <td>889000</td>\n",
       "      <td>4196110</td>\n",
       "    </tr>\n",
       "    <tr>\n",
       "      <th>4</th>\n",
       "      <td>97090</td>\n",
       "      <td>K3</td>\n",
       "      <td>760</td>\n",
       "      <td>2015</td>\n",
       "      <td>2339137</td>\n",
       "      <td>2029570</td>\n",
       "    </tr>\n",
       "    <tr>\n",
       "      <th>...</th>\n",
       "      <td>...</td>\n",
       "      <td>...</td>\n",
       "      <td>...</td>\n",
       "      <td>...</td>\n",
       "      <td>...</td>\n",
       "      <td>...</td>\n",
       "    </tr>\n",
       "    <tr>\n",
       "      <th>269</th>\n",
       "      <td>235000</td>\n",
       "      <td>Avante</td>\n",
       "      <td>390</td>\n",
       "      <td>2007</td>\n",
       "      <td>1473730</td>\n",
       "      <td>507260</td>\n",
       "    </tr>\n",
       "    <tr>\n",
       "      <th>270</th>\n",
       "      <td>140000</td>\n",
       "      <td>Avante</td>\n",
       "      <td>430</td>\n",
       "      <td>2009</td>\n",
       "      <td>14399366</td>\n",
       "      <td>4592589</td>\n",
       "    </tr>\n",
       "    <tr>\n",
       "      <th>271</th>\n",
       "      <td>96757</td>\n",
       "      <td>Avante</td>\n",
       "      <td>390</td>\n",
       "      <td>2006</td>\n",
       "      <td>303080</td>\n",
       "      <td>0</td>\n",
       "    </tr>\n",
       "    <tr>\n",
       "      <th>272</th>\n",
       "      <td>113853</td>\n",
       "      <td>Avante</td>\n",
       "      <td>390</td>\n",
       "      <td>2008</td>\n",
       "      <td>320780</td>\n",
       "      <td>1857718</td>\n",
       "    </tr>\n",
       "    <tr>\n",
       "      <th>273</th>\n",
       "      <td>91000</td>\n",
       "      <td>Avante</td>\n",
       "      <td>350</td>\n",
       "      <td>2006</td>\n",
       "      <td>3128450</td>\n",
       "      <td>401030</td>\n",
       "    </tr>\n",
       "  </tbody>\n",
       "</table>\n",
       "<p>274 rows × 6 columns</p>\n",
       "</div>"
      ],
      "text/plain": [
       "     mileage   model  price  year  my_car_damage  other_car_damage\n",
       "0      63608      K3    970  2017              0            564596\n",
       "1      69336      K3   1130  2015        1839700           1140150\n",
       "2      36000      K3   1380  2016         446520           2244910\n",
       "3      19029      K3   1390  2017         889000           4196110\n",
       "4      97090      K3    760  2015        2339137           2029570\n",
       "..       ...     ...    ...   ...            ...               ...\n",
       "269   235000  Avante    390  2007        1473730            507260\n",
       "270   140000  Avante    430  2009       14399366           4592589\n",
       "271    96757  Avante    390  2006         303080                 0\n",
       "272   113853  Avante    390  2008         320780           1857718\n",
       "273    91000  Avante    350  2006        3128450            401030\n",
       "\n",
       "[274 rows x 6 columns]"
      ]
     },
     "execution_count": 3,
     "metadata": {},
     "output_type": "execute_result"
    }
   ],
   "source": [
    "df = pd.read_excel('small_used_car.xlsx')\n",
    "df"
   ]
  },
  {
   "cell_type": "code",
   "execution_count": 4,
   "metadata": {},
   "outputs": [],
   "source": [
    "# 위 데이터들을 기반으로 K3인지, Avante인지 맞출 수 있을까?\n",
    "# 일단 로지스틱 회귀분석\n",
    "from statsmodels.formula.api import logit"
   ]
  },
  {
   "cell_type": "code",
   "execution_count": 38,
   "metadata": {},
   "outputs": [],
   "source": [
    "# 아래처럼 해서 컬럼을 추가\n",
    "# pd.get_dummies(df['model'])['K3']\n",
    "df['md'] = df['model'].map({'Avante':0, 'K3':1})"
   ]
  },
  {
   "cell_type": "code",
   "execution_count": 39,
   "metadata": {},
   "outputs": [
    {
     "data": {
      "text/html": [
       "<div>\n",
       "<style scoped>\n",
       "    .dataframe tbody tr th:only-of-type {\n",
       "        vertical-align: middle;\n",
       "    }\n",
       "\n",
       "    .dataframe tbody tr th {\n",
       "        vertical-align: top;\n",
       "    }\n",
       "\n",
       "    .dataframe thead th {\n",
       "        text-align: right;\n",
       "    }\n",
       "</style>\n",
       "<table border=\"1\" class=\"dataframe\">\n",
       "  <thead>\n",
       "    <tr style=\"text-align: right;\">\n",
       "      <th></th>\n",
       "      <th>mileage</th>\n",
       "      <th>model</th>\n",
       "      <th>price</th>\n",
       "      <th>year</th>\n",
       "      <th>my_car_damage</th>\n",
       "      <th>other_car_damage</th>\n",
       "      <th>md</th>\n",
       "    </tr>\n",
       "  </thead>\n",
       "  <tbody>\n",
       "    <tr>\n",
       "      <th>0</th>\n",
       "      <td>63608</td>\n",
       "      <td>K3</td>\n",
       "      <td>970</td>\n",
       "      <td>2017</td>\n",
       "      <td>0</td>\n",
       "      <td>564596</td>\n",
       "      <td>1</td>\n",
       "    </tr>\n",
       "    <tr>\n",
       "      <th>1</th>\n",
       "      <td>69336</td>\n",
       "      <td>K3</td>\n",
       "      <td>1130</td>\n",
       "      <td>2015</td>\n",
       "      <td>1839700</td>\n",
       "      <td>1140150</td>\n",
       "      <td>1</td>\n",
       "    </tr>\n",
       "    <tr>\n",
       "      <th>2</th>\n",
       "      <td>36000</td>\n",
       "      <td>K3</td>\n",
       "      <td>1380</td>\n",
       "      <td>2016</td>\n",
       "      <td>446520</td>\n",
       "      <td>2244910</td>\n",
       "      <td>1</td>\n",
       "    </tr>\n",
       "    <tr>\n",
       "      <th>3</th>\n",
       "      <td>19029</td>\n",
       "      <td>K3</td>\n",
       "      <td>1390</td>\n",
       "      <td>2017</td>\n",
       "      <td>889000</td>\n",
       "      <td>4196110</td>\n",
       "      <td>1</td>\n",
       "    </tr>\n",
       "    <tr>\n",
       "      <th>4</th>\n",
       "      <td>97090</td>\n",
       "      <td>K3</td>\n",
       "      <td>760</td>\n",
       "      <td>2015</td>\n",
       "      <td>2339137</td>\n",
       "      <td>2029570</td>\n",
       "      <td>1</td>\n",
       "    </tr>\n",
       "    <tr>\n",
       "      <th>...</th>\n",
       "      <td>...</td>\n",
       "      <td>...</td>\n",
       "      <td>...</td>\n",
       "      <td>...</td>\n",
       "      <td>...</td>\n",
       "      <td>...</td>\n",
       "      <td>...</td>\n",
       "    </tr>\n",
       "    <tr>\n",
       "      <th>269</th>\n",
       "      <td>235000</td>\n",
       "      <td>Avante</td>\n",
       "      <td>390</td>\n",
       "      <td>2007</td>\n",
       "      <td>1473730</td>\n",
       "      <td>507260</td>\n",
       "      <td>0</td>\n",
       "    </tr>\n",
       "    <tr>\n",
       "      <th>270</th>\n",
       "      <td>140000</td>\n",
       "      <td>Avante</td>\n",
       "      <td>430</td>\n",
       "      <td>2009</td>\n",
       "      <td>14399366</td>\n",
       "      <td>4592589</td>\n",
       "      <td>0</td>\n",
       "    </tr>\n",
       "    <tr>\n",
       "      <th>271</th>\n",
       "      <td>96757</td>\n",
       "      <td>Avante</td>\n",
       "      <td>390</td>\n",
       "      <td>2006</td>\n",
       "      <td>303080</td>\n",
       "      <td>0</td>\n",
       "      <td>0</td>\n",
       "    </tr>\n",
       "    <tr>\n",
       "      <th>272</th>\n",
       "      <td>113853</td>\n",
       "      <td>Avante</td>\n",
       "      <td>390</td>\n",
       "      <td>2008</td>\n",
       "      <td>320780</td>\n",
       "      <td>1857718</td>\n",
       "      <td>0</td>\n",
       "    </tr>\n",
       "    <tr>\n",
       "      <th>273</th>\n",
       "      <td>91000</td>\n",
       "      <td>Avante</td>\n",
       "      <td>350</td>\n",
       "      <td>2006</td>\n",
       "      <td>3128450</td>\n",
       "      <td>401030</td>\n",
       "      <td>0</td>\n",
       "    </tr>\n",
       "  </tbody>\n",
       "</table>\n",
       "<p>274 rows × 7 columns</p>\n",
       "</div>"
      ],
      "text/plain": [
       "     mileage   model  price  year  my_car_damage  other_car_damage  md\n",
       "0      63608      K3    970  2017              0            564596   1\n",
       "1      69336      K3   1130  2015        1839700           1140150   1\n",
       "2      36000      K3   1380  2016         446520           2244910   1\n",
       "3      19029      K3   1390  2017         889000           4196110   1\n",
       "4      97090      K3    760  2015        2339137           2029570   1\n",
       "..       ...     ...    ...   ...            ...               ...  ..\n",
       "269   235000  Avante    390  2007        1473730            507260   0\n",
       "270   140000  Avante    430  2009       14399366           4592589   0\n",
       "271    96757  Avante    390  2006         303080                 0   0\n",
       "272   113853  Avante    390  2008         320780           1857718   0\n",
       "273    91000  Avante    350  2006        3128450            401030   0\n",
       "\n",
       "[274 rows x 7 columns]"
      ]
     },
     "execution_count": 39,
     "metadata": {},
     "output_type": "execute_result"
    }
   ],
   "source": [
    "df"
   ]
  },
  {
   "cell_type": "code",
   "execution_count": 40,
   "metadata": {},
   "outputs": [
    {
     "name": "stdout",
     "output_type": "stream",
     "text": [
      "Optimization terminated successfully.\n",
      "         Current function value: 0.539595\n",
      "         Iterations 7\n"
     ]
    },
    {
     "data": {
      "text/html": [
       "<table class=\"simpletable\">\n",
       "<caption>Logit Regression Results</caption>\n",
       "<tr>\n",
       "  <th>Dep. Variable:</th>          <td>md</td>        <th>  No. Observations:  </th>  <td>   274</td> \n",
       "</tr>\n",
       "<tr>\n",
       "  <th>Model:</th>                 <td>Logit</td>      <th>  Df Residuals:      </th>  <td>   270</td> \n",
       "</tr>\n",
       "<tr>\n",
       "  <th>Method:</th>                 <td>MLE</td>       <th>  Df Model:          </th>  <td>     3</td> \n",
       "</tr>\n",
       "<tr>\n",
       "  <th>Date:</th>            <td>Mon, 26 Oct 2020</td> <th>  Pseudo R-squ.:     </th>  <td>0.04383</td>\n",
       "</tr>\n",
       "<tr>\n",
       "  <th>Time:</th>                <td>12:33:02</td>     <th>  Log-Likelihood:    </th> <td> -147.85</td>\n",
       "</tr>\n",
       "<tr>\n",
       "  <th>converged:</th>             <td>True</td>       <th>  LL-Null:           </th> <td> -154.63</td>\n",
       "</tr>\n",
       "<tr>\n",
       "  <th>Covariance Type:</th>     <td>nonrobust</td>    <th>  LLR p-value:       </th> <td>0.003578</td>\n",
       "</tr>\n",
       "</table>\n",
       "<table class=\"simpletable\">\n",
       "<tr>\n",
       "      <td></td>         <th>coef</th>     <th>std err</th>      <th>z</th>      <th>P>|z|</th>  <th>[0.025</th>    <th>0.975]</th>  \n",
       "</tr>\n",
       "<tr>\n",
       "  <th>Intercept</th> <td> -643.2888</td> <td>  215.572</td> <td>   -2.984</td> <td> 0.003</td> <td>-1065.801</td> <td> -220.776</td>\n",
       "</tr>\n",
       "<tr>\n",
       "  <th>mileage</th>   <td>-4.779e-06</td> <td> 4.93e-06</td> <td>   -0.969</td> <td> 0.332</td> <td>-1.44e-05</td> <td> 4.89e-06</td>\n",
       "</tr>\n",
       "<tr>\n",
       "  <th>price</th>     <td>   -0.0016</td> <td>    0.001</td> <td>   -1.827</td> <td> 0.068</td> <td>   -0.003</td> <td>    0.000</td>\n",
       "</tr>\n",
       "<tr>\n",
       "  <th>year</th>      <td>    0.3198</td> <td>    0.107</td> <td>    2.980</td> <td> 0.003</td> <td>    0.109</td> <td>    0.530</td>\n",
       "</tr>\n",
       "</table>"
      ],
      "text/plain": [
       "<class 'statsmodels.iolib.summary.Summary'>\n",
       "\"\"\"\n",
       "                           Logit Regression Results                           \n",
       "==============================================================================\n",
       "Dep. Variable:                     md   No. Observations:                  274\n",
       "Model:                          Logit   Df Residuals:                      270\n",
       "Method:                           MLE   Df Model:                            3\n",
       "Date:                Mon, 26 Oct 2020   Pseudo R-squ.:                 0.04383\n",
       "Time:                        12:33:02   Log-Likelihood:                -147.85\n",
       "converged:                       True   LL-Null:                       -154.63\n",
       "Covariance Type:            nonrobust   LLR p-value:                  0.003578\n",
       "==============================================================================\n",
       "                 coef    std err          z      P>|z|      [0.025      0.975]\n",
       "------------------------------------------------------------------------------\n",
       "Intercept   -643.2888    215.572     -2.984      0.003   -1065.801    -220.776\n",
       "mileage    -4.779e-06   4.93e-06     -0.969      0.332   -1.44e-05    4.89e-06\n",
       "price         -0.0016      0.001     -1.827      0.068      -0.003       0.000\n",
       "year           0.3198      0.107      2.980      0.003       0.109       0.530\n",
       "==============================================================================\n",
       "\"\"\""
      ]
     },
     "execution_count": 40,
     "metadata": {},
     "output_type": "execute_result"
    }
   ],
   "source": [
    "res = logit('md ~ mileage + price + year', data=df).fit()\n",
    "res.summary()"
   ]
  },
  {
   "cell_type": "code",
   "execution_count": 41,
   "metadata": {},
   "outputs": [
    {
     "data": {
      "text/plain": [
       "6.159718291577813e-65"
      ]
     },
     "execution_count": 41,
     "metadata": {},
     "output_type": "execute_result"
    }
   ],
   "source": [
    "import numpy as np\n",
    "np.exp(-147.85)"
   ]
  },
  {
   "cell_type": "code",
   "execution_count": 42,
   "metadata": {},
   "outputs": [
    {
     "data": {
      "text/plain": [
       "(303.69828531628326, 318.15079774183556, 0.043831781198843345)"
      ]
     },
     "execution_count": 42,
     "metadata": {},
     "output_type": "execute_result"
    }
   ],
   "source": [
    "res.aic, res.bic, res.prsquared # price + year + mileage"
   ]
  },
  {
   "cell_type": "code",
   "execution_count": 51,
   "metadata": {},
   "outputs": [
    {
     "data": {
      "text/plain": [
       "0      0.476482\n",
       "1      0.266082\n",
       "2      0.282609\n",
       "3      0.366676\n",
       "4      0.363306\n",
       "         ...   \n",
       "269    0.039457\n",
       "270    0.103207\n",
       "271    0.054605\n",
       "272    0.091657\n",
       "273    0.059491\n",
       "Length: 274, dtype: float64"
      ]
     },
     "execution_count": 51,
     "metadata": {},
     "output_type": "execute_result"
    }
   ],
   "source": [
    "# 이제 확률 예측하기\n",
    "import numpy as np\n",
    "prob = res.predict(df)\n",
    "prob"
   ]
  },
  {
   "cell_type": "code",
   "execution_count": 52,
   "metadata": {},
   "outputs": [],
   "source": [
    "# 확률이 0.5보다 크면 1 아니면 0으로 예측\n",
    "prediction = np.where(prob > 0.2, 1, 0)"
   ]
  },
  {
   "cell_type": "code",
   "execution_count": 54,
   "metadata": {},
   "outputs": [
    {
     "data": {
      "text/plain": [
       "array([[ 75, 130],\n",
       "       [ 13,  56]])"
      ]
     },
     "execution_count": 54,
     "metadata": {},
     "output_type": "execute_result"
    }
   ],
   "source": [
    "from sklearn.metrics import confusion_matrix\n",
    "confusion_matrix(df['md'], prediction)\n",
    "# 혼동행렬 의미1: 아반떼를 아반떼로 맞춘 경우 75\n",
    "# 혼동행렬 의미2: 아반떼를 K3로 말해 맞춘 틀린 경우 130 --- False Positive\n",
    "# 혼동행렬 의미3: K3를 아반떼로 말해 틀린 경우 13 --- True Negative\n",
    "# 혼동행렬 의미4: K3를 K3로 맞춘 경우 56"
   ]
  },
  {
   "cell_type": "code",
   "execution_count": 55,
   "metadata": {},
   "outputs": [
    {
     "data": {
      "text/plain": [
       "47.81021897810219"
      ]
     },
     "execution_count": 55,
     "metadata": {},
     "output_type": "execute_result"
    }
   ],
   "source": [
    "# 정확도 계산\n",
    "(75+56)/(75+130+13+56)*100"
   ]
  },
  {
   "cell_type": "code",
   "execution_count": 56,
   "metadata": {},
   "outputs": [
    {
     "data": {
      "text/plain": [
       "43.07692307692308"
      ]
     },
     "execution_count": 56,
     "metadata": {},
     "output_type": "execute_result"
    }
   ],
   "source": [
    "# 정밀도 계산: 양성 (여기서는 K3) 예측 중 맞은 비율\n",
    "56/130*100"
   ]
  },
  {
   "cell_type": "code",
   "execution_count": 57,
   "metadata": {},
   "outputs": [
    {
     "data": {
      "text/plain": [
       "81.15942028985508"
      ]
     },
     "execution_count": 57,
     "metadata": {},
     "output_type": "execute_result"
    }
   ],
   "source": [
    "# 재현도 계산: 실제 양성 (여기서는 K3) 중 맞춘 비율\n",
    "56/(13+56)*100"
   ]
  },
  {
   "cell_type": "code",
   "execution_count": 58,
   "metadata": {},
   "outputs": [
    {
     "data": {
      "text/plain": [
       "18.84057971014493"
      ]
     },
     "execution_count": 58,
     "metadata": {},
     "output_type": "execute_result"
    }
   ],
   "source": [
    "# 특이도 계산: 실제 음성 (여기서는 Avante) 중 맞춘 비율\n",
    "13/(13+56)*100"
   ]
  },
  {
   "cell_type": "code",
   "execution_count": null,
   "metadata": {},
   "outputs": [],
   "source": []
  }
 ],
 "metadata": {
  "kernelspec": {
   "display_name": "Python 3",
   "language": "python",
   "name": "python3"
  },
  "language_info": {
   "codemirror_mode": {
    "name": "ipython",
    "version": 3
   },
   "file_extension": ".py",
   "mimetype": "text/x-python",
   "name": "python",
   "nbconvert_exporter": "python",
   "pygments_lexer": "ipython3",
   "version": "3.8.3"
  },
  "toc": {
   "base_numbering": 1,
   "nav_menu": {},
   "number_sections": true,
   "sideBar": true,
   "skip_h1_title": false,
   "title_cell": "Table of Contents",
   "title_sidebar": "Contents",
   "toc_cell": false,
   "toc_position": {},
   "toc_section_display": true,
   "toc_window_display": false
  }
 },
 "nbformat": 4,
 "nbformat_minor": 4
}

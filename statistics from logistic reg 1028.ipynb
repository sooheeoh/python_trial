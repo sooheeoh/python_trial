{
 "cells": [
  {
   "cell_type": "markdown",
   "metadata": {},
   "source": [
    "## 로지스틱 회귀분석 연습\n",
    "\n",
    "### 문제\n",
    "암 데이터에서 diagnosis를 예측하는 로지스틱 회귀분석을 해보세요. 독립변수로는 area_worst, smoothness_worst, symmetry_worst, fractal_dimension_worst 4가지를 사용하세요.\n",
    "데이터 출처: http://doc.mindscale.kr/ngv/cancer.xlsx\n",
    "\n",
    "1. area_worst의 기울기는 얼마입니까?\n",
    "2. 위 모형의 정확도는 얼마입니까? (M을 양성으로 간주, 소수점 셋째 자리에서 반올림)\n",
    "3. 위 모형의 정밀도는 얼마입니까? (M을 양성으로 간주, 소수점 셋째 자리에서 반올림)\n",
    "4. 위 모형의 재현도는 얼마입니까? (M을 양성으로 간주, 소수점 셋째 자리에서 반올림)\n",
    "5. 위의 모형을 모형 1이라 하고, 여기에서 fractal_dimension_worst를 제외한 모형을 모형 2라고 할 때 어떤 모형이 더 로그우도가 높습니까?\n",
    "6. 모형1과 모형2를 비교할 때, 어떤 모형이 더 나은 모형이라고 할 수 있습니까?"
   ]
  },
  {
   "cell_type": "code",
   "execution_count": 31,
   "metadata": {},
   "outputs": [],
   "source": [
    "import pandas as pd\n",
    "import numpy as np"
   ]
  },
  {
   "cell_type": "code",
   "execution_count": 32,
   "metadata": {},
   "outputs": [],
   "source": [
    "df = pd.read_excel('cancer.xlsx')"
   ]
  },
  {
   "cell_type": "code",
   "execution_count": 33,
   "metadata": {},
   "outputs": [
    {
     "data": {
      "text/html": [
       "<div>\n",
       "<style scoped>\n",
       "    .dataframe tbody tr th:only-of-type {\n",
       "        vertical-align: middle;\n",
       "    }\n",
       "\n",
       "    .dataframe tbody tr th {\n",
       "        vertical-align: top;\n",
       "    }\n",
       "\n",
       "    .dataframe thead th {\n",
       "        text-align: right;\n",
       "    }\n",
       "</style>\n",
       "<table border=\"1\" class=\"dataframe\">\n",
       "  <thead>\n",
       "    <tr style=\"text-align: right;\">\n",
       "      <th></th>\n",
       "      <th>diagnosis</th>\n",
       "      <th>texture_mean</th>\n",
       "      <th>smoothness_mean</th>\n",
       "      <th>concave_points_mean</th>\n",
       "      <th>symmetry_mean</th>\n",
       "      <th>perimeter_se</th>\n",
       "      <th>compactness_se</th>\n",
       "      <th>concavity_se</th>\n",
       "      <th>concave_points_se</th>\n",
       "      <th>area_worst</th>\n",
       "      <th>smoothness_worst</th>\n",
       "      <th>symmetry_worst</th>\n",
       "      <th>fractal_dimension_worst</th>\n",
       "    </tr>\n",
       "  </thead>\n",
       "  <tbody>\n",
       "    <tr>\n",
       "      <th>0</th>\n",
       "      <td>M</td>\n",
       "      <td>10.38</td>\n",
       "      <td>0.11840</td>\n",
       "      <td>0.14710</td>\n",
       "      <td>0.2419</td>\n",
       "      <td>8.589</td>\n",
       "      <td>0.04904</td>\n",
       "      <td>0.05373</td>\n",
       "      <td>0.01587</td>\n",
       "      <td>2019.0</td>\n",
       "      <td>0.16220</td>\n",
       "      <td>0.4601</td>\n",
       "      <td>0.11890</td>\n",
       "    </tr>\n",
       "    <tr>\n",
       "      <th>1</th>\n",
       "      <td>M</td>\n",
       "      <td>17.77</td>\n",
       "      <td>0.08474</td>\n",
       "      <td>0.07017</td>\n",
       "      <td>0.1812</td>\n",
       "      <td>3.398</td>\n",
       "      <td>0.01308</td>\n",
       "      <td>0.01860</td>\n",
       "      <td>0.01340</td>\n",
       "      <td>1956.0</td>\n",
       "      <td>0.12380</td>\n",
       "      <td>0.2750</td>\n",
       "      <td>0.08902</td>\n",
       "    </tr>\n",
       "    <tr>\n",
       "      <th>2</th>\n",
       "      <td>M</td>\n",
       "      <td>21.25</td>\n",
       "      <td>0.10960</td>\n",
       "      <td>0.12790</td>\n",
       "      <td>0.2069</td>\n",
       "      <td>4.585</td>\n",
       "      <td>0.04006</td>\n",
       "      <td>0.03832</td>\n",
       "      <td>0.02058</td>\n",
       "      <td>1709.0</td>\n",
       "      <td>0.14440</td>\n",
       "      <td>0.3613</td>\n",
       "      <td>0.08758</td>\n",
       "    </tr>\n",
       "    <tr>\n",
       "      <th>3</th>\n",
       "      <td>M</td>\n",
       "      <td>20.38</td>\n",
       "      <td>0.14250</td>\n",
       "      <td>0.10520</td>\n",
       "      <td>0.2597</td>\n",
       "      <td>3.445</td>\n",
       "      <td>0.07458</td>\n",
       "      <td>0.05661</td>\n",
       "      <td>0.01867</td>\n",
       "      <td>567.7</td>\n",
       "      <td>0.20980</td>\n",
       "      <td>0.6638</td>\n",
       "      <td>0.17300</td>\n",
       "    </tr>\n",
       "    <tr>\n",
       "      <th>4</th>\n",
       "      <td>M</td>\n",
       "      <td>14.34</td>\n",
       "      <td>0.10030</td>\n",
       "      <td>0.10430</td>\n",
       "      <td>0.1809</td>\n",
       "      <td>5.438</td>\n",
       "      <td>0.02461</td>\n",
       "      <td>0.05688</td>\n",
       "      <td>0.01885</td>\n",
       "      <td>1575.0</td>\n",
       "      <td>0.13740</td>\n",
       "      <td>0.2364</td>\n",
       "      <td>0.07678</td>\n",
       "    </tr>\n",
       "    <tr>\n",
       "      <th>...</th>\n",
       "      <td>...</td>\n",
       "      <td>...</td>\n",
       "      <td>...</td>\n",
       "      <td>...</td>\n",
       "      <td>...</td>\n",
       "      <td>...</td>\n",
       "      <td>...</td>\n",
       "      <td>...</td>\n",
       "      <td>...</td>\n",
       "      <td>...</td>\n",
       "      <td>...</td>\n",
       "      <td>...</td>\n",
       "      <td>...</td>\n",
       "    </tr>\n",
       "    <tr>\n",
       "      <th>564</th>\n",
       "      <td>M</td>\n",
       "      <td>22.39</td>\n",
       "      <td>0.11100</td>\n",
       "      <td>0.13890</td>\n",
       "      <td>0.1726</td>\n",
       "      <td>7.673</td>\n",
       "      <td>0.02891</td>\n",
       "      <td>0.05198</td>\n",
       "      <td>0.02454</td>\n",
       "      <td>2027.0</td>\n",
       "      <td>0.14100</td>\n",
       "      <td>0.2060</td>\n",
       "      <td>0.07115</td>\n",
       "    </tr>\n",
       "    <tr>\n",
       "      <th>565</th>\n",
       "      <td>M</td>\n",
       "      <td>28.25</td>\n",
       "      <td>0.09780</td>\n",
       "      <td>0.09791</td>\n",
       "      <td>0.1752</td>\n",
       "      <td>5.203</td>\n",
       "      <td>0.02423</td>\n",
       "      <td>0.03950</td>\n",
       "      <td>0.01678</td>\n",
       "      <td>1731.0</td>\n",
       "      <td>0.11660</td>\n",
       "      <td>0.2572</td>\n",
       "      <td>0.06637</td>\n",
       "    </tr>\n",
       "    <tr>\n",
       "      <th>566</th>\n",
       "      <td>M</td>\n",
       "      <td>28.08</td>\n",
       "      <td>0.08455</td>\n",
       "      <td>0.05302</td>\n",
       "      <td>0.1590</td>\n",
       "      <td>3.425</td>\n",
       "      <td>0.03731</td>\n",
       "      <td>0.04730</td>\n",
       "      <td>0.01557</td>\n",
       "      <td>1124.0</td>\n",
       "      <td>0.11390</td>\n",
       "      <td>0.2218</td>\n",
       "      <td>0.07820</td>\n",
       "    </tr>\n",
       "    <tr>\n",
       "      <th>567</th>\n",
       "      <td>M</td>\n",
       "      <td>29.33</td>\n",
       "      <td>0.11780</td>\n",
       "      <td>0.15200</td>\n",
       "      <td>0.2397</td>\n",
       "      <td>5.772</td>\n",
       "      <td>0.06158</td>\n",
       "      <td>0.07117</td>\n",
       "      <td>0.01664</td>\n",
       "      <td>1821.0</td>\n",
       "      <td>0.16500</td>\n",
       "      <td>0.4087</td>\n",
       "      <td>0.12400</td>\n",
       "    </tr>\n",
       "    <tr>\n",
       "      <th>568</th>\n",
       "      <td>B</td>\n",
       "      <td>24.54</td>\n",
       "      <td>0.05263</td>\n",
       "      <td>0.00000</td>\n",
       "      <td>0.1587</td>\n",
       "      <td>2.548</td>\n",
       "      <td>0.00466</td>\n",
       "      <td>0.00000</td>\n",
       "      <td>0.00000</td>\n",
       "      <td>268.6</td>\n",
       "      <td>0.08996</td>\n",
       "      <td>0.2871</td>\n",
       "      <td>0.07039</td>\n",
       "    </tr>\n",
       "  </tbody>\n",
       "</table>\n",
       "<p>569 rows × 13 columns</p>\n",
       "</div>"
      ],
      "text/plain": [
       "    diagnosis  texture_mean  smoothness_mean  concave_points_mean  \\\n",
       "0           M         10.38          0.11840              0.14710   \n",
       "1           M         17.77          0.08474              0.07017   \n",
       "2           M         21.25          0.10960              0.12790   \n",
       "3           M         20.38          0.14250              0.10520   \n",
       "4           M         14.34          0.10030              0.10430   \n",
       "..        ...           ...              ...                  ...   \n",
       "564         M         22.39          0.11100              0.13890   \n",
       "565         M         28.25          0.09780              0.09791   \n",
       "566         M         28.08          0.08455              0.05302   \n",
       "567         M         29.33          0.11780              0.15200   \n",
       "568         B         24.54          0.05263              0.00000   \n",
       "\n",
       "     symmetry_mean  perimeter_se  compactness_se  concavity_se  \\\n",
       "0           0.2419         8.589         0.04904       0.05373   \n",
       "1           0.1812         3.398         0.01308       0.01860   \n",
       "2           0.2069         4.585         0.04006       0.03832   \n",
       "3           0.2597         3.445         0.07458       0.05661   \n",
       "4           0.1809         5.438         0.02461       0.05688   \n",
       "..             ...           ...             ...           ...   \n",
       "564         0.1726         7.673         0.02891       0.05198   \n",
       "565         0.1752         5.203         0.02423       0.03950   \n",
       "566         0.1590         3.425         0.03731       0.04730   \n",
       "567         0.2397         5.772         0.06158       0.07117   \n",
       "568         0.1587         2.548         0.00466       0.00000   \n",
       "\n",
       "     concave_points_se  area_worst  smoothness_worst  symmetry_worst  \\\n",
       "0              0.01587      2019.0           0.16220          0.4601   \n",
       "1              0.01340      1956.0           0.12380          0.2750   \n",
       "2              0.02058      1709.0           0.14440          0.3613   \n",
       "3              0.01867       567.7           0.20980          0.6638   \n",
       "4              0.01885      1575.0           0.13740          0.2364   \n",
       "..                 ...         ...               ...             ...   \n",
       "564            0.02454      2027.0           0.14100          0.2060   \n",
       "565            0.01678      1731.0           0.11660          0.2572   \n",
       "566            0.01557      1124.0           0.11390          0.2218   \n",
       "567            0.01664      1821.0           0.16500          0.4087   \n",
       "568            0.00000       268.6           0.08996          0.2871   \n",
       "\n",
       "     fractal_dimension_worst  \n",
       "0                    0.11890  \n",
       "1                    0.08902  \n",
       "2                    0.08758  \n",
       "3                    0.17300  \n",
       "4                    0.07678  \n",
       "..                       ...  \n",
       "564                  0.07115  \n",
       "565                  0.06637  \n",
       "566                  0.07820  \n",
       "567                  0.12400  \n",
       "568                  0.07039  \n",
       "\n",
       "[569 rows x 13 columns]"
      ]
     },
     "execution_count": 33,
     "metadata": {},
     "output_type": "execute_result"
    }
   ],
   "source": [
    "df"
   ]
  },
  {
   "cell_type": "code",
   "execution_count": 34,
   "metadata": {},
   "outputs": [
    {
     "data": {
      "text/html": [
       "<div>\n",
       "<style scoped>\n",
       "    .dataframe tbody tr th:only-of-type {\n",
       "        vertical-align: middle;\n",
       "    }\n",
       "\n",
       "    .dataframe tbody tr th {\n",
       "        vertical-align: top;\n",
       "    }\n",
       "\n",
       "    .dataframe thead th {\n",
       "        text-align: right;\n",
       "    }\n",
       "</style>\n",
       "<table border=\"1\" class=\"dataframe\">\n",
       "  <thead>\n",
       "    <tr style=\"text-align: right;\">\n",
       "      <th></th>\n",
       "      <th>diagnosis</th>\n",
       "      <th>texture_mean</th>\n",
       "      <th>smoothness_mean</th>\n",
       "      <th>concave_points_mean</th>\n",
       "      <th>symmetry_mean</th>\n",
       "      <th>perimeter_se</th>\n",
       "      <th>compactness_se</th>\n",
       "      <th>concavity_se</th>\n",
       "      <th>concave_points_se</th>\n",
       "      <th>area_worst</th>\n",
       "      <th>smoothness_worst</th>\n",
       "      <th>symmetry_worst</th>\n",
       "      <th>fractal_dimension_worst</th>\n",
       "      <th>result</th>\n",
       "    </tr>\n",
       "  </thead>\n",
       "  <tbody>\n",
       "    <tr>\n",
       "      <th>0</th>\n",
       "      <td>M</td>\n",
       "      <td>10.38</td>\n",
       "      <td>0.11840</td>\n",
       "      <td>0.14710</td>\n",
       "      <td>0.2419</td>\n",
       "      <td>8.589</td>\n",
       "      <td>0.04904</td>\n",
       "      <td>0.05373</td>\n",
       "      <td>0.01587</td>\n",
       "      <td>2019.0</td>\n",
       "      <td>0.16220</td>\n",
       "      <td>0.4601</td>\n",
       "      <td>0.11890</td>\n",
       "      <td>1</td>\n",
       "    </tr>\n",
       "    <tr>\n",
       "      <th>1</th>\n",
       "      <td>M</td>\n",
       "      <td>17.77</td>\n",
       "      <td>0.08474</td>\n",
       "      <td>0.07017</td>\n",
       "      <td>0.1812</td>\n",
       "      <td>3.398</td>\n",
       "      <td>0.01308</td>\n",
       "      <td>0.01860</td>\n",
       "      <td>0.01340</td>\n",
       "      <td>1956.0</td>\n",
       "      <td>0.12380</td>\n",
       "      <td>0.2750</td>\n",
       "      <td>0.08902</td>\n",
       "      <td>1</td>\n",
       "    </tr>\n",
       "    <tr>\n",
       "      <th>2</th>\n",
       "      <td>M</td>\n",
       "      <td>21.25</td>\n",
       "      <td>0.10960</td>\n",
       "      <td>0.12790</td>\n",
       "      <td>0.2069</td>\n",
       "      <td>4.585</td>\n",
       "      <td>0.04006</td>\n",
       "      <td>0.03832</td>\n",
       "      <td>0.02058</td>\n",
       "      <td>1709.0</td>\n",
       "      <td>0.14440</td>\n",
       "      <td>0.3613</td>\n",
       "      <td>0.08758</td>\n",
       "      <td>1</td>\n",
       "    </tr>\n",
       "    <tr>\n",
       "      <th>3</th>\n",
       "      <td>M</td>\n",
       "      <td>20.38</td>\n",
       "      <td>0.14250</td>\n",
       "      <td>0.10520</td>\n",
       "      <td>0.2597</td>\n",
       "      <td>3.445</td>\n",
       "      <td>0.07458</td>\n",
       "      <td>0.05661</td>\n",
       "      <td>0.01867</td>\n",
       "      <td>567.7</td>\n",
       "      <td>0.20980</td>\n",
       "      <td>0.6638</td>\n",
       "      <td>0.17300</td>\n",
       "      <td>1</td>\n",
       "    </tr>\n",
       "    <tr>\n",
       "      <th>4</th>\n",
       "      <td>M</td>\n",
       "      <td>14.34</td>\n",
       "      <td>0.10030</td>\n",
       "      <td>0.10430</td>\n",
       "      <td>0.1809</td>\n",
       "      <td>5.438</td>\n",
       "      <td>0.02461</td>\n",
       "      <td>0.05688</td>\n",
       "      <td>0.01885</td>\n",
       "      <td>1575.0</td>\n",
       "      <td>0.13740</td>\n",
       "      <td>0.2364</td>\n",
       "      <td>0.07678</td>\n",
       "      <td>1</td>\n",
       "    </tr>\n",
       "    <tr>\n",
       "      <th>...</th>\n",
       "      <td>...</td>\n",
       "      <td>...</td>\n",
       "      <td>...</td>\n",
       "      <td>...</td>\n",
       "      <td>...</td>\n",
       "      <td>...</td>\n",
       "      <td>...</td>\n",
       "      <td>...</td>\n",
       "      <td>...</td>\n",
       "      <td>...</td>\n",
       "      <td>...</td>\n",
       "      <td>...</td>\n",
       "      <td>...</td>\n",
       "      <td>...</td>\n",
       "    </tr>\n",
       "    <tr>\n",
       "      <th>564</th>\n",
       "      <td>M</td>\n",
       "      <td>22.39</td>\n",
       "      <td>0.11100</td>\n",
       "      <td>0.13890</td>\n",
       "      <td>0.1726</td>\n",
       "      <td>7.673</td>\n",
       "      <td>0.02891</td>\n",
       "      <td>0.05198</td>\n",
       "      <td>0.02454</td>\n",
       "      <td>2027.0</td>\n",
       "      <td>0.14100</td>\n",
       "      <td>0.2060</td>\n",
       "      <td>0.07115</td>\n",
       "      <td>1</td>\n",
       "    </tr>\n",
       "    <tr>\n",
       "      <th>565</th>\n",
       "      <td>M</td>\n",
       "      <td>28.25</td>\n",
       "      <td>0.09780</td>\n",
       "      <td>0.09791</td>\n",
       "      <td>0.1752</td>\n",
       "      <td>5.203</td>\n",
       "      <td>0.02423</td>\n",
       "      <td>0.03950</td>\n",
       "      <td>0.01678</td>\n",
       "      <td>1731.0</td>\n",
       "      <td>0.11660</td>\n",
       "      <td>0.2572</td>\n",
       "      <td>0.06637</td>\n",
       "      <td>1</td>\n",
       "    </tr>\n",
       "    <tr>\n",
       "      <th>566</th>\n",
       "      <td>M</td>\n",
       "      <td>28.08</td>\n",
       "      <td>0.08455</td>\n",
       "      <td>0.05302</td>\n",
       "      <td>0.1590</td>\n",
       "      <td>3.425</td>\n",
       "      <td>0.03731</td>\n",
       "      <td>0.04730</td>\n",
       "      <td>0.01557</td>\n",
       "      <td>1124.0</td>\n",
       "      <td>0.11390</td>\n",
       "      <td>0.2218</td>\n",
       "      <td>0.07820</td>\n",
       "      <td>1</td>\n",
       "    </tr>\n",
       "    <tr>\n",
       "      <th>567</th>\n",
       "      <td>M</td>\n",
       "      <td>29.33</td>\n",
       "      <td>0.11780</td>\n",
       "      <td>0.15200</td>\n",
       "      <td>0.2397</td>\n",
       "      <td>5.772</td>\n",
       "      <td>0.06158</td>\n",
       "      <td>0.07117</td>\n",
       "      <td>0.01664</td>\n",
       "      <td>1821.0</td>\n",
       "      <td>0.16500</td>\n",
       "      <td>0.4087</td>\n",
       "      <td>0.12400</td>\n",
       "      <td>1</td>\n",
       "    </tr>\n",
       "    <tr>\n",
       "      <th>568</th>\n",
       "      <td>B</td>\n",
       "      <td>24.54</td>\n",
       "      <td>0.05263</td>\n",
       "      <td>0.00000</td>\n",
       "      <td>0.1587</td>\n",
       "      <td>2.548</td>\n",
       "      <td>0.00466</td>\n",
       "      <td>0.00000</td>\n",
       "      <td>0.00000</td>\n",
       "      <td>268.6</td>\n",
       "      <td>0.08996</td>\n",
       "      <td>0.2871</td>\n",
       "      <td>0.07039</td>\n",
       "      <td>0</td>\n",
       "    </tr>\n",
       "  </tbody>\n",
       "</table>\n",
       "<p>569 rows × 14 columns</p>\n",
       "</div>"
      ],
      "text/plain": [
       "    diagnosis  texture_mean  smoothness_mean  concave_points_mean  \\\n",
       "0           M         10.38          0.11840              0.14710   \n",
       "1           M         17.77          0.08474              0.07017   \n",
       "2           M         21.25          0.10960              0.12790   \n",
       "3           M         20.38          0.14250              0.10520   \n",
       "4           M         14.34          0.10030              0.10430   \n",
       "..        ...           ...              ...                  ...   \n",
       "564         M         22.39          0.11100              0.13890   \n",
       "565         M         28.25          0.09780              0.09791   \n",
       "566         M         28.08          0.08455              0.05302   \n",
       "567         M         29.33          0.11780              0.15200   \n",
       "568         B         24.54          0.05263              0.00000   \n",
       "\n",
       "     symmetry_mean  perimeter_se  compactness_se  concavity_se  \\\n",
       "0           0.2419         8.589         0.04904       0.05373   \n",
       "1           0.1812         3.398         0.01308       0.01860   \n",
       "2           0.2069         4.585         0.04006       0.03832   \n",
       "3           0.2597         3.445         0.07458       0.05661   \n",
       "4           0.1809         5.438         0.02461       0.05688   \n",
       "..             ...           ...             ...           ...   \n",
       "564         0.1726         7.673         0.02891       0.05198   \n",
       "565         0.1752         5.203         0.02423       0.03950   \n",
       "566         0.1590         3.425         0.03731       0.04730   \n",
       "567         0.2397         5.772         0.06158       0.07117   \n",
       "568         0.1587         2.548         0.00466       0.00000   \n",
       "\n",
       "     concave_points_se  area_worst  smoothness_worst  symmetry_worst  \\\n",
       "0              0.01587      2019.0           0.16220          0.4601   \n",
       "1              0.01340      1956.0           0.12380          0.2750   \n",
       "2              0.02058      1709.0           0.14440          0.3613   \n",
       "3              0.01867       567.7           0.20980          0.6638   \n",
       "4              0.01885      1575.0           0.13740          0.2364   \n",
       "..                 ...         ...               ...             ...   \n",
       "564            0.02454      2027.0           0.14100          0.2060   \n",
       "565            0.01678      1731.0           0.11660          0.2572   \n",
       "566            0.01557      1124.0           0.11390          0.2218   \n",
       "567            0.01664      1821.0           0.16500          0.4087   \n",
       "568            0.00000       268.6           0.08996          0.2871   \n",
       "\n",
       "     fractal_dimension_worst  result  \n",
       "0                    0.11890       1  \n",
       "1                    0.08902       1  \n",
       "2                    0.08758       1  \n",
       "3                    0.17300       1  \n",
       "4                    0.07678       1  \n",
       "..                       ...     ...  \n",
       "564                  0.07115       1  \n",
       "565                  0.06637       1  \n",
       "566                  0.07820       1  \n",
       "567                  0.12400       1  \n",
       "568                  0.07039       0  \n",
       "\n",
       "[569 rows x 14 columns]"
      ]
     },
     "execution_count": 34,
     "metadata": {},
     "output_type": "execute_result"
    }
   ],
   "source": [
    "# 더미코딩이 되어 있지 않은 종속변수 diagnosis를 0, 1 범주로 변환\n",
    "df['result'] = df['diagnosis'].map({'B':0, 'M':1})\n",
    "df"
   ]
  },
  {
   "cell_type": "code",
   "execution_count": 35,
   "metadata": {},
   "outputs": [],
   "source": [
    "from statsmodels.formula.api import logit"
   ]
  },
  {
   "cell_type": "code",
   "execution_count": 36,
   "metadata": {},
   "outputs": [
    {
     "data": {
      "text/plain": [
       "Index(['diagnosis', 'texture_mean', 'smoothness_mean', 'concave_points_mean',\n",
       "       'symmetry_mean', 'perimeter_se', 'compactness_se', 'concavity_se',\n",
       "       'concave_points_se', 'area_worst', 'smoothness_worst', 'symmetry_worst',\n",
       "       'fractal_dimension_worst', 'result'],\n",
       "      dtype='object')"
      ]
     },
     "execution_count": 36,
     "metadata": {},
     "output_type": "execute_result"
    }
   ],
   "source": [
    "df.columns"
   ]
  },
  {
   "cell_type": "code",
   "execution_count": 37,
   "metadata": {},
   "outputs": [
    {
     "name": "stdout",
     "output_type": "stream",
     "text": [
      "Optimization terminated successfully.\n",
      "         Current function value: 0.112036\n",
      "         Iterations 10\n"
     ]
    },
    {
     "data": {
      "text/html": [
       "<table class=\"simpletable\">\n",
       "<caption>Logit Regression Results</caption>\n",
       "<tr>\n",
       "  <th>Dep. Variable:</th>        <td>result</td>      <th>  No. Observations:  </th>   <td>   569</td>  \n",
       "</tr>\n",
       "<tr>\n",
       "  <th>Model:</th>                 <td>Logit</td>      <th>  Df Residuals:      </th>   <td>   564</td>  \n",
       "</tr>\n",
       "<tr>\n",
       "  <th>Method:</th>                 <td>MLE</td>       <th>  Df Model:          </th>   <td>     4</td>  \n",
       "</tr>\n",
       "<tr>\n",
       "  <th>Date:</th>            <td>Wed, 28 Oct 2020</td> <th>  Pseudo R-squ.:     </th>   <td>0.8303</td>  \n",
       "</tr>\n",
       "<tr>\n",
       "  <th>Time:</th>                <td>12:39:17</td>     <th>  Log-Likelihood:    </th>  <td> -63.749</td> \n",
       "</tr>\n",
       "<tr>\n",
       "  <th>converged:</th>             <td>True</td>       <th>  LL-Null:           </th>  <td> -375.72</td> \n",
       "</tr>\n",
       "<tr>\n",
       "  <th>Covariance Type:</th>     <td>nonrobust</td>    <th>  LLR p-value:       </th> <td>1.019e-133</td>\n",
       "</tr>\n",
       "</table>\n",
       "<table class=\"simpletable\">\n",
       "<tr>\n",
       "             <td></td>                <th>coef</th>     <th>std err</th>      <th>z</th>      <th>P>|z|</th>  <th>[0.025</th>    <th>0.975]</th>  \n",
       "</tr>\n",
       "<tr>\n",
       "  <th>Intercept</th>               <td>  -26.2311</td> <td>    3.150</td> <td>   -8.327</td> <td> 0.000</td> <td>  -32.405</td> <td>  -20.057</td>\n",
       "</tr>\n",
       "<tr>\n",
       "  <th>area_worst</th>              <td>    0.0147</td> <td>    0.002</td> <td>    8.244</td> <td> 0.000</td> <td>    0.011</td> <td>    0.018</td>\n",
       "</tr>\n",
       "<tr>\n",
       "  <th>smoothness_worst</th>        <td>   68.3573</td> <td>   16.590</td> <td>    4.120</td> <td> 0.000</td> <td>   35.842</td> <td>  100.873</td>\n",
       "</tr>\n",
       "<tr>\n",
       "  <th>symmetry_worst</th>          <td>   10.6379</td> <td>    4.559</td> <td>    2.334</td> <td> 0.020</td> <td>    1.703</td> <td>   19.573</td>\n",
       "</tr>\n",
       "<tr>\n",
       "  <th>fractal_dimension_worst</th> <td>   17.9945</td> <td>   19.247</td> <td>    0.935</td> <td> 0.350</td> <td>  -19.728</td> <td>   55.717</td>\n",
       "</tr>\n",
       "</table><br/><br/>Possibly complete quasi-separation: A fraction 0.20 of observations can be<br/>perfectly predicted. This might indicate that there is complete<br/>quasi-separation. In this case some parameters will not be identified."
      ],
      "text/plain": [
       "<class 'statsmodels.iolib.summary.Summary'>\n",
       "\"\"\"\n",
       "                           Logit Regression Results                           \n",
       "==============================================================================\n",
       "Dep. Variable:                 result   No. Observations:                  569\n",
       "Model:                          Logit   Df Residuals:                      564\n",
       "Method:                           MLE   Df Model:                            4\n",
       "Date:                Wed, 28 Oct 2020   Pseudo R-squ.:                  0.8303\n",
       "Time:                        12:39:17   Log-Likelihood:                -63.749\n",
       "converged:                       True   LL-Null:                       -375.72\n",
       "Covariance Type:            nonrobust   LLR p-value:                1.019e-133\n",
       "===========================================================================================\n",
       "                              coef    std err          z      P>|z|      [0.025      0.975]\n",
       "-------------------------------------------------------------------------------------------\n",
       "Intercept                 -26.2311      3.150     -8.327      0.000     -32.405     -20.057\n",
       "area_worst                  0.0147      0.002      8.244      0.000       0.011       0.018\n",
       "smoothness_worst           68.3573     16.590      4.120      0.000      35.842     100.873\n",
       "symmetry_worst             10.6379      4.559      2.334      0.020       1.703      19.573\n",
       "fractal_dimension_worst    17.9945     19.247      0.935      0.350     -19.728      55.717\n",
       "===========================================================================================\n",
       "\n",
       "Possibly complete quasi-separation: A fraction 0.20 of observations can be\n",
       "perfectly predicted. This might indicate that there is complete\n",
       "quasi-separation. In this case some parameters will not be identified.\n",
       "\"\"\""
      ]
     },
     "execution_count": 37,
     "metadata": {},
     "output_type": "execute_result"
    }
   ],
   "source": [
    "# 아래 4개를 독립변수로 두는 로지스틱 회귀분석\n",
    "res1 = logit('result ~ area_worst + smoothness_worst + symmetry_worst + fractal_dimension_worst', data=df).fit()\n",
    "res1.summary()"
   ]
  },
  {
   "cell_type": "code",
   "execution_count": 38,
   "metadata": {},
   "outputs": [
    {
     "name": "stdout",
     "output_type": "stream",
     "text": [
      "Optimization terminated successfully.\n",
      "         Current function value: 0.112809\n",
      "         Iterations 10\n"
     ]
    },
    {
     "data": {
      "text/html": [
       "<table class=\"simpletable\">\n",
       "<caption>Logit Regression Results</caption>\n",
       "<tr>\n",
       "  <th>Dep. Variable:</th>        <td>result</td>      <th>  No. Observations:  </th>   <td>   569</td>  \n",
       "</tr>\n",
       "<tr>\n",
       "  <th>Model:</th>                 <td>Logit</td>      <th>  Df Residuals:      </th>   <td>   565</td>  \n",
       "</tr>\n",
       "<tr>\n",
       "  <th>Method:</th>                 <td>MLE</td>       <th>  Df Model:          </th>   <td>     3</td>  \n",
       "</tr>\n",
       "<tr>\n",
       "  <th>Date:</th>            <td>Wed, 28 Oct 2020</td> <th>  Pseudo R-squ.:     </th>   <td>0.8292</td>  \n",
       "</tr>\n",
       "<tr>\n",
       "  <th>Time:</th>                <td>12:39:18</td>     <th>  Log-Likelihood:    </th>  <td> -64.189</td> \n",
       "</tr>\n",
       "<tr>\n",
       "  <th>converged:</th>             <td>True</td>       <th>  LL-Null:           </th>  <td> -375.72</td> \n",
       "</tr>\n",
       "<tr>\n",
       "  <th>Covariance Type:</th>     <td>nonrobust</td>    <th>  LLR p-value:       </th> <td>1.008e-134</td>\n",
       "</tr>\n",
       "</table>\n",
       "<table class=\"simpletable\">\n",
       "<tr>\n",
       "          <td></td>            <th>coef</th>     <th>std err</th>      <th>z</th>      <th>P>|z|</th>  <th>[0.025</th>    <th>0.975]</th>  \n",
       "</tr>\n",
       "<tr>\n",
       "  <th>Intercept</th>        <td>  -26.4085</td> <td>    3.145</td> <td>   -8.398</td> <td> 0.000</td> <td>  -32.572</td> <td>  -20.245</td>\n",
       "</tr>\n",
       "<tr>\n",
       "  <th>area_worst</th>       <td>    0.0148</td> <td>    0.002</td> <td>    8.272</td> <td> 0.000</td> <td>    0.011</td> <td>    0.018</td>\n",
       "</tr>\n",
       "<tr>\n",
       "  <th>smoothness_worst</th> <td>   76.7460</td> <td>   14.452</td> <td>    5.311</td> <td> 0.000</td> <td>   48.421</td> <td>  105.071</td>\n",
       "</tr>\n",
       "<tr>\n",
       "  <th>symmetry_worst</th>   <td>   12.3211</td> <td>    4.223</td> <td>    2.918</td> <td> 0.004</td> <td>    4.044</td> <td>   20.598</td>\n",
       "</tr>\n",
       "</table><br/><br/>Possibly complete quasi-separation: A fraction 0.21 of observations can be<br/>perfectly predicted. This might indicate that there is complete<br/>quasi-separation. In this case some parameters will not be identified."
      ],
      "text/plain": [
       "<class 'statsmodels.iolib.summary.Summary'>\n",
       "\"\"\"\n",
       "                           Logit Regression Results                           \n",
       "==============================================================================\n",
       "Dep. Variable:                 result   No. Observations:                  569\n",
       "Model:                          Logit   Df Residuals:                      565\n",
       "Method:                           MLE   Df Model:                            3\n",
       "Date:                Wed, 28 Oct 2020   Pseudo R-squ.:                  0.8292\n",
       "Time:                        12:39:18   Log-Likelihood:                -64.189\n",
       "converged:                       True   LL-Null:                       -375.72\n",
       "Covariance Type:            nonrobust   LLR p-value:                1.008e-134\n",
       "====================================================================================\n",
       "                       coef    std err          z      P>|z|      [0.025      0.975]\n",
       "------------------------------------------------------------------------------------\n",
       "Intercept          -26.4085      3.145     -8.398      0.000     -32.572     -20.245\n",
       "area_worst           0.0148      0.002      8.272      0.000       0.011       0.018\n",
       "smoothness_worst    76.7460     14.452      5.311      0.000      48.421     105.071\n",
       "symmetry_worst      12.3211      4.223      2.918      0.004       4.044      20.598\n",
       "====================================================================================\n",
       "\n",
       "Possibly complete quasi-separation: A fraction 0.21 of observations can be\n",
       "perfectly predicted. This might indicate that there is complete\n",
       "quasi-separation. In this case some parameters will not be identified.\n",
       "\"\"\""
      ]
     },
     "execution_count": 38,
     "metadata": {},
     "output_type": "execute_result"
    }
   ],
   "source": [
    "# fractal_dimension_worst를 제외한 3개를 독립변수로 두는 로지스틱 회귀분석, res1(모형1)과 비교\n",
    "res2 = logit('result ~ area_worst + smoothness_worst + symmetry_worst', data=df).fit()\n",
    "res2.summary()"
   ]
  },
  {
   "cell_type": "markdown",
   "metadata": {},
   "source": [
    "### 로그우도: 더 복잡한 모형이 더 높게 나옴"
   ]
  },
  {
   "cell_type": "code",
   "execution_count": 58,
   "metadata": {},
   "outputs": [
    {
     "data": {
      "text/plain": [
       "True"
      ]
     },
     "execution_count": 58,
     "metadata": {},
     "output_type": "execute_result"
    }
   ],
   "source": [
    "res1.llf > res2.llf"
   ]
  },
  {
   "cell_type": "code",
   "execution_count": 39,
   "metadata": {},
   "outputs": [
    {
     "name": "stdout",
     "output_type": "stream",
     "text": [
      "137.49732244744993\n",
      "159.21672461808157\n",
      "0.8303293389753541\n",
      "--------------------\n",
      "136.37712254915456\n",
      "153.7526442856599\n",
      "0.8291585201537486\n"
     ]
    }
   ],
   "source": [
    "# 어떤 모형이 더 나은지 비교(로그우도는 모형 1이 더 높음)\n",
    "print(res1.aic)\n",
    "print(res1.bic)\n",
    "print(res1.prsquared)\n",
    "print('-'*20)\n",
    "print(res2.aic)\n",
    "print(res2.bic)\n",
    "print(res2.prsquared)"
   ]
  },
  {
   "cell_type": "code",
   "execution_count": 60,
   "metadata": {},
   "outputs": [
    {
     "data": {
      "text/plain": [
       "True"
      ]
     },
     "execution_count": 60,
     "metadata": {},
     "output_type": "execute_result"
    }
   ],
   "source": [
    "res1.aic > res2.aic"
   ]
  },
  {
   "cell_type": "code",
   "execution_count": 61,
   "metadata": {},
   "outputs": [
    {
     "data": {
      "text/plain": [
       "True"
      ]
     },
     "execution_count": 61,
     "metadata": {},
     "output_type": "execute_result"
    }
   ],
   "source": [
    "res1.bic > res2.bic"
   ]
  },
  {
   "cell_type": "markdown",
   "metadata": {},
   "source": [
    "aic, bic로만 봤을 때는 모형2가 더 나음(값이 더 낮음)"
   ]
  },
  {
   "cell_type": "code",
   "execution_count": 40,
   "metadata": {},
   "outputs": [
    {
     "data": {
      "text/plain": [
       "0      1.000000\n",
       "1      1.000000\n",
       "2      0.999999\n",
       "3      0.998687\n",
       "4      0.999964\n",
       "         ...   \n",
       "564    1.000000\n",
       "565    0.999985\n",
       "566    0.864486\n",
       "567    1.000000\n",
       "568    0.000007\n",
       "Length: 569, dtype: float64"
      ]
     },
     "execution_count": 40,
     "metadata": {},
     "output_type": "execute_result"
    }
   ],
   "source": [
    "# res1의 정확도, 정밀도, 재현도 구하기 -- 문턱값은 0.5\n",
    "prob = res1.predict(df)\n",
    "prob"
   ]
  },
  {
   "cell_type": "code",
   "execution_count": 44,
   "metadata": {},
   "outputs": [],
   "source": [
    "문턱값 = 0.5\n",
    "prediction = np.where(prob > 문턱값, 1, 0)"
   ]
  },
  {
   "cell_type": "markdown",
   "metadata": {},
   "source": [
    "### 혼동 행렬(confusion matrix) 만들기\n",
    "- 새로운 데이터를 넣어 혼동행렬을 만드는 게 좋다.\n",
    "\n",
    "아래는 행렬 생김새 참고\n",
    "<br>\n",
    "True Negative  | False Positive\n",
    "<br>\n",
    "False Negative | True Positive"
   ]
  },
  {
   "cell_type": "code",
   "execution_count": 47,
   "metadata": {},
   "outputs": [
    {
     "data": {
      "text/plain": [
       "array([[349,   8],\n",
       "       [ 16, 196]])"
      ]
     },
     "execution_count": 47,
     "metadata": {},
     "output_type": "execute_result"
    }
   ],
   "source": [
    "from sklearn.metrics import confusion_matrix\n",
    "confusion_matrix(df['result'], prediction)"
   ]
  },
  {
   "cell_type": "code",
   "execution_count": 28,
   "metadata": {},
   "outputs": [
    {
     "data": {
      "text/plain": [
       "0.961"
      ]
     },
     "execution_count": 28,
     "metadata": {},
     "output_type": "execute_result"
    }
   ],
   "source": [
    "# 정밀도 구하기\n",
    "round((196) / (8 + 196), 3)"
   ]
  },
  {
   "cell_type": "code",
   "execution_count": 46,
   "metadata": {},
   "outputs": [
    {
     "data": {
      "text/plain": [
       "0.958"
      ]
     },
     "execution_count": 46,
     "metadata": {},
     "output_type": "execute_result"
    }
   ],
   "source": [
    "# 정확도 구하기\n",
    "round((349 + 196) / (349 + 8 + 16 + 196), 3)"
   ]
  },
  {
   "cell_type": "code",
   "execution_count": 29,
   "metadata": {},
   "outputs": [
    {
     "data": {
      "text/plain": [
       "0.925"
      ]
     },
     "execution_count": 29,
     "metadata": {},
     "output_type": "execute_result"
    }
   ],
   "source": [
    "# 재현도 구하기\n",
    "round((196) / (16 + 196), 3)"
   ]
  },
  {
   "cell_type": "code",
   "execution_count": 54,
   "metadata": {},
   "outputs": [
    {
     "data": {
      "text/plain": [
       "0.9578207381370826"
      ]
     },
     "execution_count": 54,
     "metadata": {},
     "output_type": "execute_result"
    }
   ],
   "source": [
    "# 이런 함수를 써서 바로 구할 수도 있음 ^ ^\n",
    "from sklearn.metrics import accuracy_score, precision_score, recall_score\n",
    "accuracy_score(df['result'], prediction)"
   ]
  },
  {
   "cell_type": "code",
   "execution_count": 55,
   "metadata": {
    "scrolled": true
   },
   "outputs": [
    {
     "data": {
      "text/plain": [
       "0.9607843137254902"
      ]
     },
     "execution_count": 55,
     "metadata": {},
     "output_type": "execute_result"
    }
   ],
   "source": [
    "precision_score(df['result'], prediction)"
   ]
  },
  {
   "cell_type": "code",
   "execution_count": 56,
   "metadata": {
    "scrolled": true
   },
   "outputs": [
    {
     "data": {
      "text/plain": [
       "0.9245283018867925"
      ]
     },
     "execution_count": 56,
     "metadata": {},
     "output_type": "execute_result"
    }
   ],
   "source": [
    "recall_score(df['result'], prediction)"
   ]
  },
  {
   "cell_type": "markdown",
   "metadata": {},
   "source": [
    "### 해석시 참고(from 재명님)\n",
    "- 로그우도 = 기울기에서 우리가 가진 데이터가 나올 확률, 즉 기존 데이터를 잘 예측했느냐에 관한.. 잠깐 이거 R^2 ?\n",
    "- 모형의 복잡도가 높으면 로그우도가 높아짐\n",
    "- AIC = 로그우도에서 복잡도를 보정\n",
    "- 로그우도(R제곱과 비슷)는 기존의 데이터를 얼마나 잘 예측했는가를 보는 것, aic, bic는 앞으로 모형을 얼마나 잘 예측하는가"
   ]
  },
  {
   "cell_type": "markdown",
   "metadata": {},
   "source": [
    "----"
   ]
  },
  {
   "cell_type": "markdown",
   "metadata": {},
   "source": [
    "## 다중공선성 실습"
   ]
  },
  {
   "cell_type": "code",
   "execution_count": 62,
   "metadata": {},
   "outputs": [],
   "source": [
    "car = pd.read_excel('small_used_car.xlsx')"
   ]
  },
  {
   "cell_type": "code",
   "execution_count": 63,
   "metadata": {},
   "outputs": [
    {
     "data": {
      "text/html": [
       "<div>\n",
       "<style scoped>\n",
       "    .dataframe tbody tr th:only-of-type {\n",
       "        vertical-align: middle;\n",
       "    }\n",
       "\n",
       "    .dataframe tbody tr th {\n",
       "        vertical-align: top;\n",
       "    }\n",
       "\n",
       "    .dataframe thead th {\n",
       "        text-align: right;\n",
       "    }\n",
       "</style>\n",
       "<table border=\"1\" class=\"dataframe\">\n",
       "  <thead>\n",
       "    <tr style=\"text-align: right;\">\n",
       "      <th></th>\n",
       "      <th>mileage</th>\n",
       "      <th>model</th>\n",
       "      <th>price</th>\n",
       "      <th>year</th>\n",
       "      <th>my_car_damage</th>\n",
       "      <th>other_car_damage</th>\n",
       "    </tr>\n",
       "  </thead>\n",
       "  <tbody>\n",
       "    <tr>\n",
       "      <th>0</th>\n",
       "      <td>63608</td>\n",
       "      <td>K3</td>\n",
       "      <td>970</td>\n",
       "      <td>2017</td>\n",
       "      <td>0</td>\n",
       "      <td>564596</td>\n",
       "    </tr>\n",
       "    <tr>\n",
       "      <th>1</th>\n",
       "      <td>69336</td>\n",
       "      <td>K3</td>\n",
       "      <td>1130</td>\n",
       "      <td>2015</td>\n",
       "      <td>1839700</td>\n",
       "      <td>1140150</td>\n",
       "    </tr>\n",
       "    <tr>\n",
       "      <th>2</th>\n",
       "      <td>36000</td>\n",
       "      <td>K3</td>\n",
       "      <td>1380</td>\n",
       "      <td>2016</td>\n",
       "      <td>446520</td>\n",
       "      <td>2244910</td>\n",
       "    </tr>\n",
       "    <tr>\n",
       "      <th>3</th>\n",
       "      <td>19029</td>\n",
       "      <td>K3</td>\n",
       "      <td>1390</td>\n",
       "      <td>2017</td>\n",
       "      <td>889000</td>\n",
       "      <td>4196110</td>\n",
       "    </tr>\n",
       "    <tr>\n",
       "      <th>4</th>\n",
       "      <td>97090</td>\n",
       "      <td>K3</td>\n",
       "      <td>760</td>\n",
       "      <td>2015</td>\n",
       "      <td>2339137</td>\n",
       "      <td>2029570</td>\n",
       "    </tr>\n",
       "    <tr>\n",
       "      <th>...</th>\n",
       "      <td>...</td>\n",
       "      <td>...</td>\n",
       "      <td>...</td>\n",
       "      <td>...</td>\n",
       "      <td>...</td>\n",
       "      <td>...</td>\n",
       "    </tr>\n",
       "    <tr>\n",
       "      <th>269</th>\n",
       "      <td>235000</td>\n",
       "      <td>Avante</td>\n",
       "      <td>390</td>\n",
       "      <td>2007</td>\n",
       "      <td>1473730</td>\n",
       "      <td>507260</td>\n",
       "    </tr>\n",
       "    <tr>\n",
       "      <th>270</th>\n",
       "      <td>140000</td>\n",
       "      <td>Avante</td>\n",
       "      <td>430</td>\n",
       "      <td>2009</td>\n",
       "      <td>14399366</td>\n",
       "      <td>4592589</td>\n",
       "    </tr>\n",
       "    <tr>\n",
       "      <th>271</th>\n",
       "      <td>96757</td>\n",
       "      <td>Avante</td>\n",
       "      <td>390</td>\n",
       "      <td>2006</td>\n",
       "      <td>303080</td>\n",
       "      <td>0</td>\n",
       "    </tr>\n",
       "    <tr>\n",
       "      <th>272</th>\n",
       "      <td>113853</td>\n",
       "      <td>Avante</td>\n",
       "      <td>390</td>\n",
       "      <td>2008</td>\n",
       "      <td>320780</td>\n",
       "      <td>1857718</td>\n",
       "    </tr>\n",
       "    <tr>\n",
       "      <th>273</th>\n",
       "      <td>91000</td>\n",
       "      <td>Avante</td>\n",
       "      <td>350</td>\n",
       "      <td>2006</td>\n",
       "      <td>3128450</td>\n",
       "      <td>401030</td>\n",
       "    </tr>\n",
       "  </tbody>\n",
       "</table>\n",
       "<p>274 rows × 6 columns</p>\n",
       "</div>"
      ],
      "text/plain": [
       "     mileage   model  price  year  my_car_damage  other_car_damage\n",
       "0      63608      K3    970  2017              0            564596\n",
       "1      69336      K3   1130  2015        1839700           1140150\n",
       "2      36000      K3   1380  2016         446520           2244910\n",
       "3      19029      K3   1390  2017         889000           4196110\n",
       "4      97090      K3    760  2015        2339137           2029570\n",
       "..       ...     ...    ...   ...            ...               ...\n",
       "269   235000  Avante    390  2007        1473730            507260\n",
       "270   140000  Avante    430  2009       14399366           4592589\n",
       "271    96757  Avante    390  2006         303080                 0\n",
       "272   113853  Avante    390  2008         320780           1857718\n",
       "273    91000  Avante    350  2006        3128450            401030\n",
       "\n",
       "[274 rows x 6 columns]"
      ]
     },
     "execution_count": 63,
     "metadata": {},
     "output_type": "execute_result"
    }
   ],
   "source": [
    "car"
   ]
  },
  {
   "cell_type": "code",
   "execution_count": 64,
   "metadata": {},
   "outputs": [],
   "source": [
    "from statsmodels.formula.api import ols"
   ]
  },
  {
   "cell_type": "code",
   "execution_count": 68,
   "metadata": {},
   "outputs": [
    {
     "data": {
      "text/html": [
       "<table class=\"simpletable\">\n",
       "<caption>OLS Regression Results</caption>\n",
       "<tr>\n",
       "  <th>Dep. Variable:</th>          <td>price</td>      <th>  R-squared:         </th> <td>   0.783</td>\n",
       "</tr>\n",
       "<tr>\n",
       "  <th>Model:</th>                   <td>OLS</td>       <th>  Adj. R-squared:    </th> <td>   0.779</td>\n",
       "</tr>\n",
       "<tr>\n",
       "  <th>Method:</th>             <td>Least Squares</td>  <th>  F-statistic:       </th> <td>   193.2</td>\n",
       "</tr>\n",
       "<tr>\n",
       "  <th>Date:</th>             <td>Wed, 28 Oct 2020</td> <th>  Prob (F-statistic):</th> <td>1.14e-86</td>\n",
       "</tr>\n",
       "<tr>\n",
       "  <th>Time:</th>                 <td>15:50:42</td>     <th>  Log-Likelihood:    </th> <td> -1770.2</td>\n",
       "</tr>\n",
       "<tr>\n",
       "  <th>No. Observations:</th>      <td>   274</td>      <th>  AIC:               </th> <td>   3552.</td>\n",
       "</tr>\n",
       "<tr>\n",
       "  <th>Df Residuals:</th>          <td>   268</td>      <th>  BIC:               </th> <td>   3574.</td>\n",
       "</tr>\n",
       "<tr>\n",
       "  <th>Df Model:</th>              <td>     5</td>      <th>                     </th>     <td> </td>   \n",
       "</tr>\n",
       "<tr>\n",
       "  <th>Covariance Type:</th>      <td>nonrobust</td>    <th>                     </th>     <td> </td>   \n",
       "</tr>\n",
       "</table>\n",
       "<table class=\"simpletable\">\n",
       "<tr>\n",
       "          <td></td>            <th>coef</th>     <th>std err</th>      <th>t</th>      <th>P>|t|</th>  <th>[0.025</th>    <th>0.975]</th>  \n",
       "</tr>\n",
       "<tr>\n",
       "  <th>Intercept</th>        <td>-1.523e+05</td> <td> 9586.614</td> <td>  -15.885</td> <td> 0.000</td> <td>-1.71e+05</td> <td>-1.33e+05</td>\n",
       "</tr>\n",
       "<tr>\n",
       "  <th>model[T.K3]</th>      <td>  -32.7958</td> <td>   22.205</td> <td>   -1.477</td> <td> 0.141</td> <td>  -76.514</td> <td>   10.923</td>\n",
       "</tr>\n",
       "<tr>\n",
       "  <th>mileage</th>          <td>   -0.0024</td> <td>    0.000</td> <td>   -8.958</td> <td> 0.000</td> <td>   -0.003</td> <td>   -0.002</td>\n",
       "</tr>\n",
       "<tr>\n",
       "  <th>year</th>             <td>   76.1874</td> <td>    4.755</td> <td>   16.022</td> <td> 0.000</td> <td>   66.825</td> <td>   85.550</td>\n",
       "</tr>\n",
       "<tr>\n",
       "  <th>my_car_damage</th>    <td>-1.619e-05</td> <td> 3.31e-06</td> <td>   -4.894</td> <td> 0.000</td> <td>-2.27e-05</td> <td>-9.68e-06</td>\n",
       "</tr>\n",
       "<tr>\n",
       "  <th>other_car_damage</th> <td>-6.073e-06</td> <td> 2.14e-06</td> <td>   -2.836</td> <td> 0.005</td> <td>-1.03e-05</td> <td>-1.86e-06</td>\n",
       "</tr>\n",
       "</table>\n",
       "<table class=\"simpletable\">\n",
       "<tr>\n",
       "  <th>Omnibus:</th>       <td>11.358</td> <th>  Durbin-Watson:     </th> <td>   1.553</td>\n",
       "</tr>\n",
       "<tr>\n",
       "  <th>Prob(Omnibus):</th> <td> 0.003</td> <th>  Jarque-Bera (JB):  </th> <td>  14.249</td>\n",
       "</tr>\n",
       "<tr>\n",
       "  <th>Skew:</th>          <td> 0.347</td> <th>  Prob(JB):          </th> <td>0.000805</td>\n",
       "</tr>\n",
       "<tr>\n",
       "  <th>Kurtosis:</th>      <td> 3.875</td> <th>  Cond. No.          </th> <td>5.46e+09</td>\n",
       "</tr>\n",
       "</table><br/><br/>Warnings:<br/>[1] Standard Errors assume that the covariance matrix of the errors is correctly specified.<br/>[2] The condition number is large, 5.46e+09. This might indicate that there are<br/>strong multicollinearity or other numerical problems."
      ],
      "text/plain": [
       "<class 'statsmodels.iolib.summary.Summary'>\n",
       "\"\"\"\n",
       "                            OLS Regression Results                            \n",
       "==============================================================================\n",
       "Dep. Variable:                  price   R-squared:                       0.783\n",
       "Model:                            OLS   Adj. R-squared:                  0.779\n",
       "Method:                 Least Squares   F-statistic:                     193.2\n",
       "Date:                Wed, 28 Oct 2020   Prob (F-statistic):           1.14e-86\n",
       "Time:                        15:50:42   Log-Likelihood:                -1770.2\n",
       "No. Observations:                 274   AIC:                             3552.\n",
       "Df Residuals:                     268   BIC:                             3574.\n",
       "Df Model:                           5                                         \n",
       "Covariance Type:            nonrobust                                         \n",
       "====================================================================================\n",
       "                       coef    std err          t      P>|t|      [0.025      0.975]\n",
       "------------------------------------------------------------------------------------\n",
       "Intercept        -1.523e+05   9586.614    -15.885      0.000   -1.71e+05   -1.33e+05\n",
       "model[T.K3]        -32.7958     22.205     -1.477      0.141     -76.514      10.923\n",
       "mileage             -0.0024      0.000     -8.958      0.000      -0.003      -0.002\n",
       "year                76.1874      4.755     16.022      0.000      66.825      85.550\n",
       "my_car_damage    -1.619e-05   3.31e-06     -4.894      0.000   -2.27e-05   -9.68e-06\n",
       "other_car_damage -6.073e-06   2.14e-06     -2.836      0.005   -1.03e-05   -1.86e-06\n",
       "==============================================================================\n",
       "Omnibus:                       11.358   Durbin-Watson:                   1.553\n",
       "Prob(Omnibus):                  0.003   Jarque-Bera (JB):               14.249\n",
       "Skew:                           0.347   Prob(JB):                     0.000805\n",
       "Kurtosis:                       3.875   Cond. No.                     5.46e+09\n",
       "==============================================================================\n",
       "\n",
       "Warnings:\n",
       "[1] Standard Errors assume that the covariance matrix of the errors is correctly specified.\n",
       "[2] The condition number is large, 5.46e+09. This might indicate that there are\n",
       "strong multicollinearity or other numerical problems.\n",
       "\"\"\""
      ]
     },
     "execution_count": 68,
     "metadata": {},
     "output_type": "execute_result"
    }
   ],
   "source": [
    "ols('price ~ mileage + model + year + my_car_damage + other_car_damage', data=car).fit().summary()"
   ]
  },
  {
   "cell_type": "code",
   "execution_count": 69,
   "metadata": {},
   "outputs": [
    {
     "data": {
      "text/html": [
       "<table class=\"simpletable\">\n",
       "<caption>OLS Regression Results</caption>\n",
       "<tr>\n",
       "  <th>Dep. Variable:</th>         <td>mileage</td>     <th>  R-squared:         </th> <td>   0.338</td>\n",
       "</tr>\n",
       "<tr>\n",
       "  <th>Model:</th>                   <td>OLS</td>       <th>  Adj. R-squared:    </th> <td>   0.328</td>\n",
       "</tr>\n",
       "<tr>\n",
       "  <th>Method:</th>             <td>Least Squares</td>  <th>  F-statistic:       </th> <td>   34.36</td>\n",
       "</tr>\n",
       "<tr>\n",
       "  <th>Date:</th>             <td>Wed, 28 Oct 2020</td> <th>  Prob (F-statistic):</th> <td>3.62e-23</td>\n",
       "</tr>\n",
       "<tr>\n",
       "  <th>Time:</th>                 <td>15:51:17</td>     <th>  Log-Likelihood:    </th> <td> -3255.1</td>\n",
       "</tr>\n",
       "<tr>\n",
       "  <th>No. Observations:</th>      <td>   274</td>      <th>  AIC:               </th> <td>   6520.</td>\n",
       "</tr>\n",
       "<tr>\n",
       "  <th>Df Residuals:</th>          <td>   269</td>      <th>  BIC:               </th> <td>   6538.</td>\n",
       "</tr>\n",
       "<tr>\n",
       "  <th>Df Model:</th>              <td>     4</td>      <th>                     </th>     <td> </td>   \n",
       "</tr>\n",
       "<tr>\n",
       "  <th>Covariance Type:</th>      <td>nonrobust</td>    <th>                     </th>     <td> </td>   \n",
       "</tr>\n",
       "</table>\n",
       "<table class=\"simpletable\">\n",
       "<tr>\n",
       "          <td></td>            <th>coef</th>     <th>std err</th>      <th>t</th>      <th>P>|t|</th>  <th>[0.025</th>    <th>0.975]</th>  \n",
       "</tr>\n",
       "<tr>\n",
       "  <th>Intercept</th>        <td> 1.956e+07</td> <td>  1.8e+06</td> <td>   10.861</td> <td> 0.000</td> <td>  1.6e+07</td> <td> 2.31e+07</td>\n",
       "</tr>\n",
       "<tr>\n",
       "  <th>model[T.K3]</th>      <td> -160.5713</td> <td> 5003.433</td> <td>   -0.032</td> <td> 0.974</td> <td>   -1e+04</td> <td> 9690.298</td>\n",
       "</tr>\n",
       "<tr>\n",
       "  <th>year</th>             <td>-9677.1395</td> <td>  894.403</td> <td>  -10.820</td> <td> 0.000</td> <td>-1.14e+04</td> <td>-7916.218</td>\n",
       "</tr>\n",
       "<tr>\n",
       "  <th>my_car_damage</th>    <td>    0.0005</td> <td>    0.001</td> <td>    0.679</td> <td> 0.498</td> <td>   -0.001</td> <td>    0.002</td>\n",
       "</tr>\n",
       "<tr>\n",
       "  <th>other_car_damage</th> <td>   -0.0011</td> <td>    0.000</td> <td>   -2.319</td> <td> 0.021</td> <td>   -0.002</td> <td>   -0.000</td>\n",
       "</tr>\n",
       "</table>\n",
       "<table class=\"simpletable\">\n",
       "<tr>\n",
       "  <th>Omnibus:</th>       <td>45.374</td> <th>  Durbin-Watson:     </th> <td>   1.670</td>\n",
       "</tr>\n",
       "<tr>\n",
       "  <th>Prob(Omnibus):</th> <td> 0.000</td> <th>  Jarque-Bera (JB):  </th> <td>  86.746</td>\n",
       "</tr>\n",
       "<tr>\n",
       "  <th>Skew:</th>          <td> 0.871</td> <th>  Prob(JB):          </th> <td>1.46e-19</td>\n",
       "</tr>\n",
       "<tr>\n",
       "  <th>Kurtosis:</th>      <td> 5.137</td> <th>  Cond. No.          </th> <td>4.56e+09</td>\n",
       "</tr>\n",
       "</table><br/><br/>Warnings:<br/>[1] Standard Errors assume that the covariance matrix of the errors is correctly specified.<br/>[2] The condition number is large, 4.56e+09. This might indicate that there are<br/>strong multicollinearity or other numerical problems."
      ],
      "text/plain": [
       "<class 'statsmodels.iolib.summary.Summary'>\n",
       "\"\"\"\n",
       "                            OLS Regression Results                            \n",
       "==============================================================================\n",
       "Dep. Variable:                mileage   R-squared:                       0.338\n",
       "Model:                            OLS   Adj. R-squared:                  0.328\n",
       "Method:                 Least Squares   F-statistic:                     34.36\n",
       "Date:                Wed, 28 Oct 2020   Prob (F-statistic):           3.62e-23\n",
       "Time:                        15:51:17   Log-Likelihood:                -3255.1\n",
       "No. Observations:                 274   AIC:                             6520.\n",
       "Df Residuals:                     269   BIC:                             6538.\n",
       "Df Model:                           4                                         \n",
       "Covariance Type:            nonrobust                                         \n",
       "====================================================================================\n",
       "                       coef    std err          t      P>|t|      [0.025      0.975]\n",
       "------------------------------------------------------------------------------------\n",
       "Intercept         1.956e+07    1.8e+06     10.861      0.000     1.6e+07    2.31e+07\n",
       "model[T.K3]       -160.5713   5003.433     -0.032      0.974      -1e+04    9690.298\n",
       "year             -9677.1395    894.403    -10.820      0.000   -1.14e+04   -7916.218\n",
       "my_car_damage        0.0005      0.001      0.679      0.498      -0.001       0.002\n",
       "other_car_damage    -0.0011      0.000     -2.319      0.021      -0.002      -0.000\n",
       "==============================================================================\n",
       "Omnibus:                       45.374   Durbin-Watson:                   1.670\n",
       "Prob(Omnibus):                  0.000   Jarque-Bera (JB):               86.746\n",
       "Skew:                           0.871   Prob(JB):                     1.46e-19\n",
       "Kurtosis:                       5.137   Cond. No.                     4.56e+09\n",
       "==============================================================================\n",
       "\n",
       "Warnings:\n",
       "[1] Standard Errors assume that the covariance matrix of the errors is correctly specified.\n",
       "[2] The condition number is large, 4.56e+09. This might indicate that there are\n",
       "strong multicollinearity or other numerical problems.\n",
       "\"\"\""
      ]
     },
     "execution_count": 69,
     "metadata": {},
     "output_type": "execute_result"
    }
   ],
   "source": [
    "ols('mileage ~ model + year + my_car_damage + other_car_damage', data=car).fit().summary()"
   ]
  },
  {
   "cell_type": "code",
   "execution_count": 71,
   "metadata": {},
   "outputs": [
    {
     "data": {
      "text/plain": [
       "1.5105740181268883"
      ]
     },
     "execution_count": 71,
     "metadata": {},
     "output_type": "execute_result"
    }
   ],
   "source": [
    "1/(1-0.338)"
   ]
  },
  {
   "cell_type": "code",
   "execution_count": null,
   "metadata": {},
   "outputs": [],
   "source": []
  }
 ],
 "metadata": {
  "kernelspec": {
   "display_name": "Python 3",
   "language": "python",
   "name": "python3"
  },
  "language_info": {
   "codemirror_mode": {
    "name": "ipython",
    "version": 3
   },
   "file_extension": ".py",
   "mimetype": "text/x-python",
   "name": "python",
   "nbconvert_exporter": "python",
   "pygments_lexer": "ipython3",
   "version": "3.8.3"
  },
  "toc": {
   "base_numbering": 1,
   "nav_menu": {},
   "number_sections": false,
   "sideBar": true,
   "skip_h1_title": false,
   "title_cell": "Table of Contents",
   "title_sidebar": "Contents",
   "toc_cell": false,
   "toc_position": {},
   "toc_section_display": true,
   "toc_window_display": true
  }
 },
 "nbformat": 4,
 "nbformat_minor": 4
}

{
 "cells": [
  {
   "cell_type": "code",
   "execution_count": 1,
   "metadata": {},
   "outputs": [
    {
     "data": {
      "text/plain": [
       "'{\"name\":\"jack\", \"age\":20}'"
      ]
     },
     "execution_count": 1,
     "metadata": {},
     "output_type": "execute_result"
    }
   ],
   "source": [
    "json_str = '{\"name\":\"jack\", \"age\":20}'\n",
    "json_str"
   ]
  },
  {
   "cell_type": "code",
   "execution_count": 2,
   "metadata": {},
   "outputs": [
    {
     "name": "stdout",
     "output_type": "stream",
     "text": [
      "{'name': 'jack', 'age': 20}\n",
      "<class 'dict'>\n",
      "jack\n"
     ]
    }
   ],
   "source": [
    "import json\n",
    "result = json.loads(json_str)\n",
    "print(result)\n",
    "print(type(result))\n",
    "print(result['name'])"
   ]
  },
  {
   "cell_type": "code",
   "execution_count": 6,
   "metadata": {},
   "outputs": [
    {
     "name": "stdout",
     "output_type": "stream",
     "text": [
      "{\n",
      "\"lastBuildDate\": \"Sat, 31 Oct 2020 16:15:39 +0900\",\n",
      "\"total\": 96344,\n",
      "\"start\": 1,\n",
      "\"display\": 10,\n",
      "\"items\": [\n",
      "{\n",
      "\"title\": \"<b>아이폰12</b>로 '배그' 하면 배터리 빨리 닳고 '핫팩'만큼 뜨거워진다\",\n",
      "\"originallink\": \"https://www.insight.co.kr/news/310227\",\n",
      "\"link\": \"https://www.insight.co.kr/news/310227\",\n",
      "\"description\": \"= <b>아이폰12</b>가 애플 마니아들의 뜨거운 관심 속에 국내 정식 출시했다.이 가운데, <b>아이폰12</b>로 게임을 할 때 배터리 소모가 급격한 것으로 나타나 유저들의 걱정을 사고 있다.최근 IT 전문 매체 '폰아레나'는 <b>아이폰12</b>와... \",\n",
      "\"pubDate\": \"Sat, 31 Oct 2020 16:00:00 +0900\"\n",
      "\n",
      "},\n",
      "{\n",
      "\"title\": \"&quot;배터리 녹는다…&quot; <b>아이폰12</b> 시리즈, 역대급 혹평 쏟아졌다\",\n",
      "\"originallink\": \"https://www.wikitree.co.kr/articles/586600\",\n",
      "\"link\": \"https://www.wikitree.co.kr/articles/586600\",\n",
      "\"description\": \"애플이 <b>아이폰12</b>와 <b>아이폰12</b> 프로 판매를 시작한 가운데 배터리 성능이 혹평을 들었다.  30일 IT전문 매체 폰아레나는 <b>아이폰12</b> 프로 시리즈에 대한 웹브라우징, 동영상 재생, 3D 게이밍 배터리... \",\n",
      "\"pubDate\": \"Sat, 31 Oct 2020 15:03:00 +0900\"\n",
      "\n",
      "},\n",
      "{\n",
      "\"title\": \"<b>아이폰12</b> 시리즈 국내 상륙, 프로모션 혜택 강화\",\n",
      "\"originallink\": \"http://www.lawissue.co.kr/view.php?ud=202010301618577198992c130dbe_12\",\n",
      "\"link\": \"http://www.lawissue.co.kr/view.php?ud=202010301618577198992c130dbe_12\",\n",
      "\"description\": \"지난 30일 국내 시장에서 정식 출시를 시작한 <b>아이폰12</b>, <b>아이폰12</b> PRO 중 프로 모델을 선택한 소비자의 비중이 압도적인 것으로 알려졌다. 업계 관계자는 “신종 코로나 바이러스의 여파로 인해 고가 플래그십 모델에... \",\n",
      "\"pubDate\": \"Sat, 31 Oct 2020 15:01:00 +0900\"\n",
      "\n",
      "},\n",
      "{\n",
      "\"title\": \"핫버스폰, <b>아이폰12</b> 출시 인기 올라, 갤럭시노트20 이어, Z플립 10만원대 프로...\",\n",
      "\"originallink\": \"http://www.ujeil.com/news/articleView.html?idxno=264285\",\n",
      "\"link\": \"http://www.ujeil.com/news/articleView.html?idxno=264285\",\n",
      "\"description\": \"사진제공=핫버스폰 애플의 <b>아이폰12</b> MINI와 <b>아이폰12</b> PRO MAX가 내달 20일 출시를 진행할 것으로 전망된다. 지난 29일 이동통신 업계에 따르면 해당 두 모델은 11월 13일부터 사전 예약을 시작하고, 20일 출시될 예정인... \",\n",
      "\"pubDate\": \"Sat, 31 Oct 2020 15:00:00 +0900\"\n",
      "\n",
      "},\n",
      "{\n",
      "\"title\": \"'전국5G맛집' 갤럭시Z 플립 출고가 인하 10만원대 좌표 공개 더불어 갤럭시S2...\",\n",
      "\"originallink\": \"http://www.hkrecruit.co.kr/news/articleView.html?idxno=22610\",\n",
      "\"link\": \"http://www.hkrecruit.co.kr/news/articleView.html?idxno=22610\",\n",
      "\"description\": \"사진제공=전국5G맛집 애플의 <b>아이폰12</b> 시리즈가 높은 사전예약 신청자 수를 기록하고 있는 한편 삼성전자의 두번째 폴더블 스마트폰 갤럭시Z 플립 모델의 출고가가 한번 더 인하돼 화제가 되고 있다. 이는 애플의... \",\n",
      "\"pubDate\": \"Sat, 31 Oct 2020 14:01:00 +0900\"\n",
      "\n",
      "},\n",
      "{\n",
      "\"title\": \"[글로벌-Biz24] ‘佛에는 있는데 우린 왜 없어’…‘<b>아이폰12</b>’ 겨냥 러시아 ...\",\n",
      "\"originallink\": \"http://www.g-enews.com/ko-kr/news/article/news_all/2020103113055080311e71ea687c_1/article.html\",\n",
      "\"link\": \"http://www.g-enews.com/ko-kr/news/article/news_all/2020103113055080311e71ea687c_1/article.html\",\n",
      "\"description\": \"애플이 ‘환경보호’를 명분으로 ‘<b>아이폰12</b>’에 충전 어댑터와 이어폰을 구성품에서 제외한 데 대해 러시아에서 소송 움직임이 일고 있다. 29일(현지시간) 러시아 매체인 씨뉴스(cnews)은 애플이 새로운 아이폰에... \",\n",
      "\"pubDate\": \"Sat, 31 Oct 2020 13:16:00 +0900\"\n",
      "\n",
      "},\n",
      "{\n",
      "\"title\": \"모모폰, 갤럭시 및 <b>아이폰</b> 초등학생 무료 키즈폰 프로모션 진행\",\n",
      "\"originallink\": \"http://www.sisamagazine.co.kr/news/articleView.html?idxno=334683\",\n",
      "\"link\": \"http://www.sisamagazine.co.kr/news/articleView.html?idxno=334683\",\n",
      "\"description\": \"얼마 전에는 애플의 첫 5G 모델인 <b>아이폰12</b> 시리즈가 출시되어 큰 인기를 끌고 있는 양상이다. 플래그십 모델들이 다양하게 출시되고 있지만 출고가가 높아 학부모들은 아이들에게 플래그십 모델 보다는 가격이 낮아진... \",\n",
      "\"pubDate\": \"Sat, 31 Oct 2020 13:02:00 +0900\"\n",
      "\n",
      "},\n",
      "{\n",
      "\"title\": \"[주간 테크 뉴스] &quot;코로나19 백신, 윤곽 나왔다&quot;… 승기 잡을 제약사 '누구'\",\n",
      "\"originallink\": \"http://it.chosun.com/site/data/html_dir/2020/10/31/2020103100422.html\",\n",
      "\"link\": \"http://it.chosun.com/site/data/html_dir/2020/10/31/2020103100422.html\",\n",
      "\"description\": \"애플·이통사 갑질에 휴대폰 판매점 이중고 애플의 <b>아이폰12</b> 시리즈 출시를 앞두고 단말 유통 업계의 시름이 깊다. 애플의 아이폰을 판매하는 유통업체는 의무적으로 시연용 아이폰을 직접 구입해야 해 기기값에... \",\n",
      "\"pubDate\": \"Sat, 31 Oct 2020 12:01:00 +0900\"\n",
      "\n",
      "},\n",
      "{\n",
      "\"title\": \"사나폰, '<b>아이폰12</b> 미니 및 프로 맥스' 사전예약 할인 혜택 제공 및 에어팟 프...\",\n",
      "\"originallink\": \"http://www.itbiznews.com/news/articleView.html?idxno=22830\",\n",
      "\"link\": \"http://www.itbiznews.com/news/articleView.html?idxno=22830\",\n",
      "\"description\": \"사나폰은 유튜버 '찬웅팀장'이 운영하는 커뮤니티 사이트로, <b>아이폰12</b> 시리즈의 사전예약 구매자에게 '에어팟 프로'와 '프로모션혜택' 등을 내세워 구매를 원하는 소비자들이 이목을 끌고 있다. 앞서, 애플의 신작... \",\n",
      "\"pubDate\": \"Sat, 31 Oct 2020 12:00:00 +0900\"\n",
      "\n",
      "},\n",
      "{\n",
      "\"title\": \"삼성폰, 3분기 中 화웨이 제치고 1위···4분기는 '미지수'\",\n",
      "\"originallink\": \"http://www.sisajournal-e.com/news/articleView.html?idxno=225185\",\n",
      "\"link\": \"http://www.sisajournal-e.com/news/articleView.html?idxno=225185\",\n",
      "\"description\": \"이는 올해 <b>아이폰12</b> 시리즈 출시 일정이 예년과 달리 3분기에서 4분기로 밀린 영향이다. 그러나 올 4분기 들어 이 같은 시장 순위는 재편될 것으로 예상된다. 애플이 이달 5G를 지원하는 <b>아이폰 12</b> 시리즈를... \",\n",
      "\"pubDate\": \"Sat, 31 Oct 2020 10:03:00 +0900\"\n",
      "\n",
      "}\n",
      "]\n",
      "}\n",
      "\n"
     ]
    }
   ],
   "source": [
    "import requests\n",
    "# 네이버 오픈 API를 사용하기 위한 어플리케이션 key / secret\n",
    "client_key = 'W90ZGDqonPXqAz7NkHlG'\n",
    "client_secret = 'X24V_QxDqk'\n",
    "\n",
    "url = 'https://openapi.naver.com/v1/search/news.json?query=아이폰12'\n",
    "header_params = {\"X-Naver-Client-Id\":client_key, \"X-Naver-Client-Secret\":client_secret}\n",
    "response = requests.get(url, headers = header_params)\n",
    "\n",
    "# 결과값 출력, json 형식임\n",
    "print(response.text)"
   ]
  },
  {
   "cell_type": "code",
   "execution_count": 10,
   "metadata": {},
   "outputs": [
    {
     "name": "stdout",
     "output_type": "stream",
     "text": [
      "title:  <b>아이폰12</b>로 '배그' 하면 배터리 빨리 닳고 '핫팩'만큼 뜨거워진다\n",
      "Desc:  = <b>아이폰12</b>가 애플 마니아들의 뜨거운 관심 속에 국내 정식 출시했다.이 가운데, <b>아이폰12</b>로 게임을 할 때 배터리 소모가 급격한 것으로 나타나 유저들의 걱정을 사고 있다.최근 IT 전문 매체 '폰아레나'는 <b>아이폰12</b>와... \n",
      "\n",
      "title:  &quot;배터리 녹는다…&quot; <b>아이폰12</b> 시리즈, 역대급 혹평 쏟아졌다\n",
      "Desc:  애플이 <b>아이폰12</b>와 <b>아이폰12</b> 프로 판매를 시작한 가운데 배터리 성능이 혹평을 들었다.  30일 IT전문 매체 폰아레나는 <b>아이폰12</b> 프로 시리즈에 대한 웹브라우징, 동영상 재생, 3D 게이밍 배터리... \n",
      "\n",
      "title:  <b>아이폰12</b> 시리즈 국내 상륙, 프로모션 혜택 강화\n",
      "Desc:  지난 30일 국내 시장에서 정식 출시를 시작한 <b>아이폰12</b>, <b>아이폰12</b> PRO 중 프로 모델을 선택한 소비자의 비중이 압도적인 것으로 알려졌다. 업계 관계자는 “신종 코로나 바이러스의 여파로 인해 고가 플래그십 모델에... \n",
      "\n",
      "title:  핫버스폰, <b>아이폰12</b> 출시 인기 올라, 갤럭시노트20 이어, Z플립 10만원대 프로...\n",
      "Desc:  사진제공=핫버스폰 애플의 <b>아이폰12</b> MINI와 <b>아이폰12</b> PRO MAX가 내달 20일 출시를 진행할 것으로 전망된다. 지난 29일 이동통신 업계에 따르면 해당 두 모델은 11월 13일부터 사전 예약을 시작하고, 20일 출시될 예정인... \n",
      "\n",
      "title:  '전국5G맛집' 갤럭시Z 플립 출고가 인하 10만원대 좌표 공개 더불어 갤럭시S2...\n",
      "Desc:  사진제공=전국5G맛집 애플의 <b>아이폰12</b> 시리즈가 높은 사전예약 신청자 수를 기록하고 있는 한편 삼성전자의 두번째 폴더블 스마트폰 갤럭시Z 플립 모델의 출고가가 한번 더 인하돼 화제가 되고 있다. 이는 애플의... \n",
      "\n",
      "title:  [글로벌-Biz24] ‘佛에는 있는데 우린 왜 없어’…‘<b>아이폰12</b>’ 겨냥 러시아 ...\n",
      "Desc:  애플이 ‘환경보호’를 명분으로 ‘<b>아이폰12</b>’에 충전 어댑터와 이어폰을 구성품에서 제외한 데 대해 러시아에서 소송 움직임이 일고 있다. 29일(현지시간) 러시아 매체인 씨뉴스(cnews)은 애플이 새로운 아이폰에... \n",
      "\n",
      "title:  모모폰, 갤럭시 및 <b>아이폰</b> 초등학생 무료 키즈폰 프로모션 진행\n",
      "Desc:  얼마 전에는 애플의 첫 5G 모델인 <b>아이폰12</b> 시리즈가 출시되어 큰 인기를 끌고 있는 양상이다. 플래그십 모델들이 다양하게 출시되고 있지만 출고가가 높아 학부모들은 아이들에게 플래그십 모델 보다는 가격이 낮아진... \n",
      "\n",
      "title:  [주간 테크 뉴스] &quot;코로나19 백신, 윤곽 나왔다&quot;… 승기 잡을 제약사 '누구'\n",
      "Desc:  애플·이통사 갑질에 휴대폰 판매점 이중고 애플의 <b>아이폰12</b> 시리즈 출시를 앞두고 단말 유통 업계의 시름이 깊다. 애플의 아이폰을 판매하는 유통업체는 의무적으로 시연용 아이폰을 직접 구입해야 해 기기값에... \n",
      "\n",
      "title:  사나폰, '<b>아이폰12</b> 미니 및 프로 맥스' 사전예약 할인 혜택 제공 및 에어팟 프...\n",
      "Desc:  사나폰은 유튜버 '찬웅팀장'이 운영하는 커뮤니티 사이트로, <b>아이폰12</b> 시리즈의 사전예약 구매자에게 '에어팟 프로'와 '프로모션혜택' 등을 내세워 구매를 원하는 소비자들이 이목을 끌고 있다. 앞서, 애플의 신작... \n",
      "\n",
      "title:  삼성폰, 3분기 中 화웨이 제치고 1위···4분기는 '미지수'\n",
      "Desc:  이는 올해 <b>아이폰12</b> 시리즈 출시 일정이 예년과 달리 3분기에서 4분기로 밀린 영향이다. 그러나 올 4분기 들어 이 같은 시장 순위는 재편될 것으로 예상된다. 애플이 이달 5G를 지원하는 <b>아이폰 12</b> 시리즈를... \n",
      "\n"
     ]
    }
   ],
   "source": [
    "import json\n",
    "# http 응답 코드는 stats_code에 저장되며, 200은 요청이 정상적으로 처리되었음을 의미\n",
    "\n",
    "if(response.status_code == 200):\n",
    "    # json 모듈을 사용한 방법\n",
    "    # results = json.loads(response.text)\n",
    "\n",
    "    #requests 라이브러리가 제공하는 json 메서드 사용\n",
    "    result = response.json()\n",
    "    for item in result['items']:\n",
    "        print(\"title: \", item['title'])\n",
    "        print(\"Desc: \", item['description'])\n",
    "        print()\n",
    "\n",
    "else:\n",
    "    print(\"[Error] Status code: \", response.status_code)"
   ]
  },
  {
   "cell_type": "code",
   "execution_count": 29,
   "metadata": {},
   "outputs": [],
   "source": [
    "import math\n",
    "\n",
    "def abs(a):\n",
    "    b = (a ** 2)\n",
    "    c = math.sqrt(b)\n",
    "    print(c)"
   ]
  },
  {
   "cell_type": "code",
   "execution_count": 32,
   "metadata": {},
   "outputs": [
    {
     "name": "stdout",
     "output_type": "stream",
     "text": [
      "20.0\n"
     ]
    }
   ],
   "source": [
    "a = -20\n",
    "abs(a)"
   ]
  },
  {
   "cell_type": "code",
   "execution_count": 33,
   "metadata": {},
   "outputs": [],
   "source": [
    "def get_abs(a):\n",
    "    b = (a**2)**(1/2)\n",
    "    return b"
   ]
  },
  {
   "cell_type": "code",
   "execution_count": 34,
   "metadata": {},
   "outputs": [
    {
     "data": {
      "text/plain": [
       "20.0"
      ]
     },
     "execution_count": 34,
     "metadata": {},
     "output_type": "execute_result"
    }
   ],
   "source": [
    "get_abs(a)"
   ]
  },
  {
   "cell_type": "code",
   "execution_count": 37,
   "metadata": {},
   "outputs": [
    {
     "data": {
      "text/plain": [
       "8"
      ]
     },
     "execution_count": 37,
     "metadata": {},
     "output_type": "execute_result"
    }
   ],
   "source": [
    "pow(2, 3)"
   ]
  },
  {
   "cell_type": "code",
   "execution_count": 38,
   "metadata": {},
   "outputs": [
    {
     "ename": "SyntaxError",
     "evalue": "unexpected EOF while parsing (<ipython-input-38-ca74be61c66e>, line 2)",
     "output_type": "error",
     "traceback": [
      "\u001b[0;36m  File \u001b[0;32m\"<ipython-input-38-ca74be61c66e>\"\u001b[0;36m, line \u001b[0;32m2\u001b[0m\n\u001b[0;31m    \u001b[0m\n\u001b[0m    ^\u001b[0m\n\u001b[0;31mSyntaxError\u001b[0m\u001b[0;31m:\u001b[0m unexpected EOF while parsing\n"
     ]
    }
   ],
   "source": [
    "def jecob(n):\n",
    "    "
   ]
  },
  {
   "cell_type": "code",
   "execution_count": 40,
   "metadata": {},
   "outputs": [
    {
     "data": {
      "text/plain": [
       "14"
      ]
     },
     "execution_count": 40,
     "metadata": {},
     "output_type": "execute_result"
    }
   ],
   "source": [
    "1 ** 2 + 2 ** 2 + 3 ** 2"
   ]
  },
  {
   "cell_type": "code",
   "execution_count": null,
   "metadata": {},
   "outputs": [],
   "source": [
    "a = 0\n",
    "for i in range(1, n):\n",
    "    i ** 2"
   ]
  }
 ],
 "metadata": {
  "kernelspec": {
   "display_name": "Python 3",
   "language": "python",
   "name": "python3"
  },
  "language_info": {
   "codemirror_mode": {
    "name": "ipython",
    "version": 3
   },
   "file_extension": ".py",
   "mimetype": "text/x-python",
   "name": "python",
   "nbconvert_exporter": "python",
   "pygments_lexer": "ipython3",
   "version": "3.8.3"
  },
  "toc": {
   "base_numbering": 1,
   "nav_menu": {},
   "number_sections": true,
   "sideBar": true,
   "skip_h1_title": false,
   "title_cell": "Table of Contents",
   "title_sidebar": "Contents",
   "toc_cell": false,
   "toc_position": {},
   "toc_section_display": true,
   "toc_window_display": false
  }
 },
 "nbformat": 4,
 "nbformat_minor": 4
}

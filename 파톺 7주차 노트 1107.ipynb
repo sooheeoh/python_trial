{
 "cells": [
  {
   "cell_type": "markdown",
   "metadata": {},
   "source": [
    "# 파이썬 개요 리뷰\n",
    "- 인터프리터 언어(유사. Ruby): 파이썬 이전의 언어(C, Java 등)은 파일을 컴파일하고 돌려야 작동함\n",
    "\n",
    "## 변수 & 데이터타입\n",
    "- 변수\n",
    "    - 숫자, 문자열, 리스트 등의 값을 가리키는 것(객체를 '가리킴')\n",
    "    - 값을 담아놓는 공간이라고도 생각할 '수도' 있음\n",
    "- 데이터타입\n",
    "    - 데이터의 타입(형식)\n",
    "    - 숫자(int, float, complex), 문자열(string), 불(bool), 컬렉션(list, dict, set, tuple), None 등\n",
    "    \n",
    "## 조건문 & 반복문\n",
    "- 조건문\n",
    "    - 조건에 따라 프로그램의 흐름을 제어하기 위한 구문\n",
    "    - 파이썬에서는 if / elif / else 형식으로 표현\n",
    "    - (if만 쓰고 elif나 else를 반드시 쓰지 않는 경우도 많다.)\n",
    "- 반복문(for/while loop)\n",
    "    - 특정 반복저건에 따라 코드 블록을 반복 실행시키기 위한 구문\n",
    "    - while의 무한루프는 커맨드+c로 정지\n",
    "    \n",
    "## 함수\n",
    "- 특정 코드를 재사용할 수 있도록 구성한 코드 형태\n",
    "- 인풋과 아웃풋이 있다. (인풋도 아웃풋도 없는 형태도 가능)\n",
    "    - 인풋값: 파라미터(매개변수)"
   ]
  },
  {
   "cell_type": "code",
   "execution_count": 1,
   "metadata": {},
   "outputs": [],
   "source": [
    "def hamsoo(param):\n",
    "    for i in range(0, 3):\n",
    "        print(f\"param = {param} -> 요기서 넘어온 값을 전달인자(argument)라고 한다.\")"
   ]
  },
  {
   "cell_type": "code",
   "execution_count": 2,
   "metadata": {},
   "outputs": [
    {
     "name": "stdout",
     "output_type": "stream",
     "text": [
      "param = Hi -> 요기서 넘어온 값을 전달인자(argument)라고 한다.\n",
      "param = Hi -> 요기서 넘어온 값을 전달인자(argument)라고 한다.\n",
      "param = Hi -> 요기서 넘어온 값을 전달인자(argument)라고 한다.\n"
     ]
    }
   ],
   "source": [
    "hamsoo(\"Hi\")"
   ]
  },
  {
   "cell_type": "code",
   "execution_count": 3,
   "metadata": {},
   "outputs": [
    {
     "name": "stdout",
     "output_type": "stream",
     "text": [
      "true\n"
     ]
    }
   ],
   "source": [
    "print(\"true\")"
   ]
  },
  {
   "cell_type": "code",
   "execution_count": 4,
   "metadata": {},
   "outputs": [
    {
     "data": {
      "text/plain": [
       "'true'"
      ]
     },
     "execution_count": 4,
     "metadata": {},
     "output_type": "execute_result"
    }
   ],
   "source": [
    "def hamsoo():\n",
    "    return \"true\"\n",
    "\n",
    "hamsoo()"
   ]
  },
  {
   "cell_type": "code",
   "execution_count": 5,
   "metadata": {},
   "outputs": [
    {
     "name": "stdout",
     "output_type": "stream",
     "text": [
      "true\n"
     ]
    }
   ],
   "source": [
    "print(hamsoo())"
   ]
  },
  {
   "cell_type": "markdown",
   "metadata": {},
   "source": [
    "## 컬렉션\n",
    "- 컬렉션 데이터 타입들은 기본적으로 여러 값을 묶어서 사용하기 위한 형태\n",
    "    - 리스트(list): 변경 가능(mutable)하며 인덱싱이 가능(순서가 있다. []\n",
    "    - 딕셔너리(dict): 변경 가능(mutable)하며 key-value형태 [\"\":\"\"]\n",
    "    - 튜플(tuple): 리스트와 비슷하지만 변경 불가능(immutable) ()\n",
    "    - 셋(set): 키가 없는 딕셔너리 형태, 순서가 없고 집합을 나타내기 위한 형태 {} <br>\n",
    "        - set은 and(&)와 or(|)로 연산할 수 있다.\n",
    "        - set은 집합이기 때문에 리스트와 달리 중복이 허용되지 않는다."
   ]
  },
  {
   "cell_type": "code",
   "execution_count": 78,
   "metadata": {},
   "outputs": [
    {
     "data": {
      "text/plain": [
       "set()"
      ]
     },
     "execution_count": 78,
     "metadata": {},
     "output_type": "execute_result"
    }
   ],
   "source": [
    "s = set()\n",
    "s"
   ]
  },
  {
   "cell_type": "code",
   "execution_count": 10,
   "metadata": {},
   "outputs": [
    {
     "ename": "AttributeError",
     "evalue": "'set' object has no attribute 'append'",
     "output_type": "error",
     "traceback": [
      "\u001b[0;31m---------------------------------------------------------------------------\u001b[0m",
      "\u001b[0;31mAttributeError\u001b[0m                            Traceback (most recent call last)",
      "\u001b[0;32m<ipython-input-10-2c7bd3417cdd>\u001b[0m in \u001b[0;36m<module>\u001b[0;34m\u001b[0m\n\u001b[0;32m----> 1\u001b[0;31m \u001b[0ms\u001b[0m\u001b[0;34m.\u001b[0m\u001b[0mappend\u001b[0m\u001b[0;34m(\u001b[0m\u001b[0;34m\"A\"\u001b[0m\u001b[0;34m)\u001b[0m \u001b[0;31m# set에 append는 안 되고\u001b[0m\u001b[0;34m\u001b[0m\u001b[0;34m\u001b[0m\u001b[0m\n\u001b[0m",
      "\u001b[0;31mAttributeError\u001b[0m: 'set' object has no attribute 'append'"
     ]
    }
   ],
   "source": [
    "s.append(\"A\") # set에 append는 안 되고"
   ]
  },
  {
   "cell_type": "code",
   "execution_count": 11,
   "metadata": {},
   "outputs": [],
   "source": [
    "s.add(\"A\") # set에 add는 되네요."
   ]
  },
  {
   "cell_type": "code",
   "execution_count": 9,
   "metadata": {},
   "outputs": [
    {
     "data": {
      "text/plain": [
       "{'A'}"
      ]
     },
     "execution_count": 9,
     "metadata": {},
     "output_type": "execute_result"
    }
   ],
   "source": [
    "s"
   ]
  },
  {
   "cell_type": "code",
   "execution_count": 12,
   "metadata": {},
   "outputs": [
    {
     "data": {
      "text/plain": [
       "set"
      ]
     },
     "execution_count": 12,
     "metadata": {},
     "output_type": "execute_result"
    }
   ],
   "source": [
    "s2 = {'B'}\n",
    "type(s2)"
   ]
  },
  {
   "cell_type": "code",
   "execution_count": 15,
   "metadata": {},
   "outputs": [
    {
     "ename": "TypeError",
     "evalue": "unsupported operand type(s) for +: 'set' and 'set'",
     "output_type": "error",
     "traceback": [
      "\u001b[0;31m---------------------------------------------------------------------------\u001b[0m",
      "\u001b[0;31mTypeError\u001b[0m                                 Traceback (most recent call last)",
      "\u001b[0;32m<ipython-input-15-0dff248f200c>\u001b[0m in \u001b[0;36m<module>\u001b[0;34m\u001b[0m\n\u001b[0;32m----> 1\u001b[0;31m \u001b[0ms\u001b[0m \u001b[0;34m+\u001b[0m \u001b[0ms2\u001b[0m \u001b[0;31m# 집합이니 둘이 더할 수 있나? 안 됨\u001b[0m\u001b[0;34m\u001b[0m\u001b[0;34m\u001b[0m\u001b[0m\n\u001b[0m",
      "\u001b[0;31mTypeError\u001b[0m: unsupported operand type(s) for +: 'set' and 'set'"
     ]
    }
   ],
   "source": [
    "s + s2 # 집합이니 둘이 더할 수 있나? 안 됨"
   ]
  },
  {
   "cell_type": "code",
   "execution_count": 17,
   "metadata": {},
   "outputs": [
    {
     "data": {
      "text/plain": [
       "{'A', 'B'}"
      ]
     },
     "execution_count": 17,
     "metadata": {},
     "output_type": "execute_result"
    }
   ],
   "source": [
    "s | s2"
   ]
  },
  {
   "cell_type": "code",
   "execution_count": 18,
   "metadata": {},
   "outputs": [
    {
     "data": {
      "text/plain": [
       "set()"
      ]
     },
     "execution_count": 18,
     "metadata": {},
     "output_type": "execute_result"
    }
   ],
   "source": [
    "s & s2"
   ]
  },
  {
   "cell_type": "code",
   "execution_count": 20,
   "metadata": {},
   "outputs": [],
   "source": [
    "a = {1, 2, 3}\n",
    "b = {2, 3, 5}"
   ]
  },
  {
   "cell_type": "code",
   "execution_count": 21,
   "metadata": {},
   "outputs": [
    {
     "data": {
      "text/plain": [
       "{1, 2, 3, 5}"
      ]
     },
     "execution_count": 21,
     "metadata": {},
     "output_type": "execute_result"
    }
   ],
   "source": [
    "a | b # 합집합"
   ]
  },
  {
   "cell_type": "code",
   "execution_count": 22,
   "metadata": {},
   "outputs": [
    {
     "data": {
      "text/plain": [
       "{2, 3}"
      ]
     },
     "execution_count": 22,
     "metadata": {},
     "output_type": "execute_result"
    }
   ],
   "source": [
    "a & b # 교집합"
   ]
  },
  {
   "cell_type": "code",
   "execution_count": 23,
   "metadata": {},
   "outputs": [
    {
     "data": {
      "text/plain": [
       "{1}"
      ]
     },
     "execution_count": 23,
     "metadata": {},
     "output_type": "execute_result"
    }
   ],
   "source": [
    "a - b # 차집합"
   ]
  },
  {
   "cell_type": "code",
   "execution_count": 24,
   "metadata": {},
   "outputs": [
    {
     "data": {
      "text/plain": [
       "{2, 3, 5}"
      ]
     },
     "execution_count": 24,
     "metadata": {},
     "output_type": "execute_result"
    }
   ],
   "source": [
    "a and b"
   ]
  },
  {
   "cell_type": "code",
   "execution_count": 25,
   "metadata": {},
   "outputs": [
    {
     "data": {
      "text/plain": [
       "{1, 2, 3}"
      ]
     },
     "execution_count": 25,
     "metadata": {},
     "output_type": "execute_result"
    }
   ],
   "source": [
    "b and a"
   ]
  },
  {
   "cell_type": "code",
   "execution_count": 26,
   "metadata": {},
   "outputs": [
    {
     "data": {
      "text/plain": [
       "{1, 2, 3}"
      ]
     },
     "execution_count": 26,
     "metadata": {},
     "output_type": "execute_result"
    }
   ],
   "source": [
    "a or b"
   ]
  },
  {
   "cell_type": "code",
   "execution_count": 27,
   "metadata": {},
   "outputs": [
    {
     "data": {
      "text/plain": [
       "{2, 3, 5}"
      ]
     },
     "execution_count": 27,
     "metadata": {},
     "output_type": "execute_result"
    }
   ],
   "source": [
    "b or a"
   ]
  },
  {
   "cell_type": "markdown",
   "metadata": {},
   "source": [
    "### 위에 왜 이래\n",
    "- and는 둘다 True여야. a(True)에 값이 있고, b(True)에도 값이 있어야 ㅇㅋ 이므로 뒤에 있는 b 출력\n",
    "- or는 둘 중에 하나만 True면 됨. a에 값이 있네. 바로 a 출력. b는 어떻든 노상관"
   ]
  },
  {
   "cell_type": "markdown",
   "metadata": {},
   "source": [
    "## 클래스\n",
    "- (객체지향 프로그래밍에서 상태(값 - 변수)와 행위(처리 - 함수)를 하나의 묶음 형태로 사용하는) 객체의 설계도\n",
    "- 클래스의 실체가 객체\n",
    "- 클래스에 의해 만들어진 객체 == 인스턴스 (*실제 메모리에 올라가 있음*) <br>\n",
    "> 쿠키틀 == 클래스 / 쿠키 == 객체 / 쿠키 == 쿠키틀의 인스턴스<br>\n",
    "> 즉, 쿠키틀이라는 클래스와의 관계를 내포하여 말할 때에는 인스턴스<br>\n",
    "> 쿠키틀의 인스턴스 == 쿠키 == 객체<br>\n",
    "    - ```Bibimbap()```이 클래스일 때\n",
    "    - ```b = Bibimbap()```에서 Bibimbap()은 클래스\n",
    "    - b는 객체이자 비빔밥이라는 클래스의 인스턴스\n",
    "    \n",
    "## 모듈\n",
    "- 함수나 변수, 클래스를 모아놓은 하나의 파이썬 파일(~~.py)"
   ]
  },
  {
   "cell_type": "markdown",
   "metadata": {},
   "source": [
    "## TIP\n",
    "### +=이 뭔가요"
   ]
  },
  {
   "cell_type": "code",
   "execution_count": 32,
   "metadata": {},
   "outputs": [
    {
     "name": "stdout",
     "output_type": "stream",
     "text": [
      "1\n"
     ]
    }
   ],
   "source": [
    "n = 0\n",
    "n = n + 1\n",
    "print(n)"
   ]
  },
  {
   "cell_type": "markdown",
   "metadata": {},
   "source": [
    "이것과 아래는 같음\n"
   ]
  },
  {
   "cell_type": "code",
   "execution_count": 30,
   "metadata": {},
   "outputs": [
    {
     "name": "stdout",
     "output_type": "stream",
     "text": [
      "1\n"
     ]
    }
   ],
   "source": [
    "n = 0\n",
    "n += 1\n",
    "print(n)"
   ]
  },
  {
   "cell_type": "markdown",
   "metadata": {},
   "source": [
    "### += 리스트에도 적용 가능\n",
    "for문에서 리스트에 무언가 하나씩 넣을 때 .append()를 사용할 수도 있지만 아래처럼 +=를 사용할 수도 있다."
   ]
  },
  {
   "cell_type": "code",
   "execution_count": 34,
   "metadata": {},
   "outputs": [
    {
     "name": "stdout",
     "output_type": "stream",
     "text": [
      "[1, 2]\n"
     ]
    }
   ],
   "source": [
    "a = [1]\n",
    "a = a + [2]\n",
    "print(a)"
   ]
  },
  {
   "cell_type": "code",
   "execution_count": 36,
   "metadata": {},
   "outputs": [
    {
     "name": "stdout",
     "output_type": "stream",
     "text": [
      "[1, 2]\n"
     ]
    }
   ],
   "source": [
    "a = [1]\n",
    "a += [2]\n",
    "print(a)"
   ]
  },
  {
   "cell_type": "code",
   "execution_count": 37,
   "metadata": {},
   "outputs": [
    {
     "name": "stdout",
     "output_type": "stream",
     "text": [
      "[2, 4, 6, 8]\n"
     ]
    }
   ],
   "source": [
    "# 리스트 number에서 2의 배수만 리스트 result에 넣어보자 (for문 사용)\n",
    "numbers = [1,2,3,4,5,6,7,8]\n",
    "result = []\n",
    "\n",
    "for number in numbers:\n",
    "    if number % 2 == 0:\n",
    "        result+= [number]\n",
    "        # 이 코드는 result.append(number)과 동일한 작업 수행\n",
    "        \n",
    "print(result)"
   ]
  },
  {
   "cell_type": "markdown",
   "metadata": {},
   "source": [
    "### List comprehension.."
   ]
  },
  {
   "cell_type": "code",
   "execution_count": 39,
   "metadata": {},
   "outputs": [
    {
     "name": "stdout",
     "output_type": "stream",
     "text": [
      "[2, 4, 6, 8]\n"
     ]
    }
   ],
   "source": [
    "# 리스트 number에서 2의 배수만 리스트 result에 넣어보자 (List comprehension 사용)\n",
    "numbers = [1, 2, 3, 4, 5, 6, 7, 8]\n",
    "results = [number for number in numbers if number % 2 == 0]\n",
    "print(results)"
   ]
  },
  {
   "cell_type": "markdown",
   "metadata": {},
   "source": [
    "톺아보기 ```number for number in numbers if number % 2 == 0```\n",
    "- for에서 if 전까지는 for문과 같음\n",
    "- 그 결과를 맨 앞 number에 넣어라\n",
    "- \"if가 모두 True인 넘버 모두 나와서 걔들을 리스트 형식으로 만들어줘라\"\n",
    "\n",
    "한줄로 표현해서 편하긴 하지만 복잡한 for문을 구현하기는 어렵다."
   ]
  },
  {
   "cell_type": "markdown",
   "metadata": {},
   "source": [
    "### Lambda\n",
    "- 람다 표현식(Lambda expressions)인 익명 함수(Anonymous function)를 만드는 방식\n",
    "- ```lambda parameters:expression```\n",
    "- 언제 사용?\n",
    "    - 함수를 한 줄로 간결하게 표현할 때\n",
    "    - 등등"
   ]
  },
  {
   "cell_type": "code",
   "execution_count": 42,
   "metadata": {},
   "outputs": [
    {
     "data": {
      "text/plain": [
       "4"
      ]
     },
     "execution_count": 42,
     "metadata": {},
     "output_type": "execute_result"
    }
   ],
   "source": [
    "def square(x):\n",
    "    return x * x\n",
    "\n",
    "square(2)"
   ]
  },
  {
   "cell_type": "markdown",
   "metadata": {},
   "source": [
    "아래와 같음\n"
   ]
  },
  {
   "cell_type": "code",
   "execution_count": 43,
   "metadata": {},
   "outputs": [
    {
     "data": {
      "text/plain": [
       "4"
      ]
     },
     "execution_count": 43,
     "metadata": {},
     "output_type": "execute_result"
    }
   ],
   "source": [
    "square = lambda x : x * x\n",
    "square(2)"
   ]
  },
  {
   "cell_type": "code",
   "execution_count": 44,
   "metadata": {},
   "outputs": [
    {
     "data": {
      "text/plain": [
       "6"
      ]
     },
     "execution_count": 44,
     "metadata": {},
     "output_type": "execute_result"
    }
   ],
   "source": [
    "def mul(a, b):\n",
    "    return a * b\n",
    "\n",
    "mul(2, 3)"
   ]
  },
  {
   "cell_type": "markdown",
   "metadata": {},
   "source": [
    "아래와 같음"
   ]
  },
  {
   "cell_type": "code",
   "execution_count": 46,
   "metadata": {},
   "outputs": [
    {
     "data": {
      "text/plain": [
       "6"
      ]
     },
     "execution_count": 46,
     "metadata": {},
     "output_type": "execute_result"
    }
   ],
   "source": [
    "mul = lambda a, b : a * b\n",
    "mul(2, 3)"
   ]
  },
  {
   "cell_type": "code",
   "execution_count": 47,
   "metadata": {},
   "outputs": [
    {
     "data": {
      "text/plain": [
       "4"
      ]
     },
     "execution_count": 47,
     "metadata": {},
     "output_type": "execute_result"
    }
   ],
   "source": [
    "# 변수에 할당하지 않고 바로 사용하는 것도 가능\n",
    "(lambda x : x * x)(2)"
   ]
  },
  {
   "cell_type": "code",
   "execution_count": 50,
   "metadata": {},
   "outputs": [
    {
     "name": "stdout",
     "output_type": "stream",
     "text": [
      "1\n",
      "2\n",
      "3 얘는 3의 배수예요!\n",
      "4\n",
      "5\n",
      "6 얘는 3의 배수예요!\n",
      "7\n",
      "8\n",
      "9 얘는 3의 배수예요!\n",
      "10\n",
      "11\n",
      "12 얘는 3의 배수예요!\n",
      "13\n",
      "14\n",
      "15 얘는 3의 배수예요!\n"
     ]
    }
   ],
   "source": [
    "mul_of_3 = lambda x : f\"{x} 얘는 3의 배수예요!\" if x % 3 == 0 else x\n",
    "\n",
    "for i in range(1, 16):\n",
    "    print(mul_of_3(i))"
   ]
  },
  {
   "cell_type": "markdown",
   "metadata": {},
   "source": [
    "# 과제: Q&A"
   ]
  },
  {
   "cell_type": "code",
   "execution_count": 59,
   "metadata": {},
   "outputs": [
    {
     "data": {
      "text/plain": [
       "'This is an Apple.'"
      ]
     },
     "execution_count": 59,
     "metadata": {},
     "output_type": "execute_result"
    }
   ],
   "source": [
    "\"This is %s.\" % \"an Apple\""
   ]
  },
  {
   "cell_type": "markdown",
   "metadata": {},
   "source": [
    "%d %s %f 이런 거 대신 되는 알파벳이 여러개 있음을 발견함(a: ascii, b: binary, x: hexadecimal...)"
   ]
  },
  {
   "cell_type": "code",
   "execution_count": 56,
   "metadata": {},
   "outputs": [],
   "source": [
    "# True와 False도 데이터타입이기 때문에 변수에 할당이 가능하다.\n",
    "a = True\n",
    "b = False"
   ]
  },
  {
   "cell_type": "markdown",
   "metadata": {},
   "source": [
    "## 매개변수와 전달인자\n",
    "- 매개변수(parameter): 입력값을 표현하는 변수로, 함수 내에서 해당변수명으로 사용된다.\n",
    "- 전달인자(argument): 함수에게 전달해주는 인자, 값"
   ]
  },
  {
   "cell_type": "code",
   "execution_count": 66,
   "metadata": {},
   "outputs": [
    {
     "name": "stdout",
     "output_type": "stream",
     "text": [
      "Hello, Ethan\n"
     ]
    }
   ],
   "source": [
    "def hello(name): # 매개변수: name 즉, 변수명\n",
    "    print(\"Hello, %s\" % name) #매개변수: name\n",
    "\n",
    "hello(\"Ethan\") #전달인자: \"Ethan\""
   ]
  },
  {
   "cell_type": "markdown",
   "metadata": {},
   "source": [
    "## map()\n",
    "여러 개의 데이터를 한 번에 다른 형태로 변환하기 위해 사용\n",
    "- ```map(변환 함수, 순회 가능한 데이터)```"
   ]
  },
  {
   "cell_type": "code",
   "execution_count": 68,
   "metadata": {},
   "outputs": [],
   "source": [
    "numbers = [1,2,3,4,5,6,7,8,9,10]"
   ]
  },
  {
   "cell_type": "code",
   "execution_count": 69,
   "metadata": {},
   "outputs": [],
   "source": [
    "def x2(number):\n",
    "    return number * 2"
   ]
  },
  {
   "cell_type": "markdown",
   "metadata": {},
   "source": [
    "## 패킹, 언패킹\n",
    "- 튜플뿐만 아니라 리스트도 가능"
   ]
  },
  {
   "cell_type": "code",
   "execution_count": 74,
   "metadata": {},
   "outputs": [],
   "source": [
    "temp = 1, 2, 3"
   ]
  },
  {
   "cell_type": "code",
   "execution_count": 75,
   "metadata": {},
   "outputs": [],
   "source": [
    "a, b, c = temp"
   ]
  },
  {
   "cell_type": "code",
   "execution_count": 76,
   "metadata": {},
   "outputs": [
    {
     "data": {
      "text/plain": [
       "1"
      ]
     },
     "execution_count": 76,
     "metadata": {},
     "output_type": "execute_result"
    }
   ],
   "source": [
    "a"
   ]
  },
  {
   "cell_type": "code",
   "execution_count": 77,
   "metadata": {},
   "outputs": [
    {
     "data": {
      "text/plain": [
       "tuple"
      ]
     },
     "execution_count": 77,
     "metadata": {},
     "output_type": "execute_result"
    }
   ],
   "source": [
    "type(temp)"
   ]
  },
  {
   "cell_type": "markdown",
   "metadata": {},
   "source": [
    "## 클래스"
   ]
  },
  {
   "cell_type": "code",
   "execution_count": 88,
   "metadata": {},
   "outputs": [],
   "source": [
    "class Shabu: # 클래스 명칭은 앞에 대문자\n",
    "    def __init__(self, meet): # self를 첫 번째 인자로 받아야 함. meet는 잠시 오는 파라미터\n",
    "        self.meet = meet # 위의 meet와 다름\n",
    "    def print_meet(self): # 클래스의 변수명은 캐멀케이스: camelCase\n",
    "        print(self.meet)"
   ]
  },
  {
   "cell_type": "code",
   "execution_count": 89,
   "metadata": {},
   "outputs": [],
   "source": [
    "s = Shabu(\"Cow\")"
   ]
  },
  {
   "cell_type": "code",
   "execution_count": 90,
   "metadata": {},
   "outputs": [
    {
     "name": "stdout",
     "output_type": "stream",
     "text": [
      "Cow\n"
     ]
    }
   ],
   "source": [
    "s.print_meet()"
   ]
  },
  {
   "cell_type": "markdown",
   "metadata": {},
   "source": [
    "# 알고리즘 기초 2"
   ]
  },
  {
   "cell_type": "markdown",
   "metadata": {},
   "source": [
    "# 알고리즘 - 재귀 호출(Recursion)\n",
    "## 재귀호출\n",
    "- 함수가 자기 자신을 다시 호출하는 것"
   ]
  },
  {
   "cell_type": "code",
   "execution_count": null,
   "metadata": {},
   "outputs": [],
   "source": [
    "def hello():\n",
    "    print(\"Hello\") # 종료 조건이 없다면 무한반복"
   ]
  },
  {
   "cell_type": "markdown",
   "metadata": {},
   "source": [
    "1. 팩토리얼: 한글로 계승이라고도 하며 1에서 시작하여 어떤 범위에 있는 모든 정수를 곱하는 것\n",
    "    - 예. 5! = 5 x 4 x 3 x 2 x 1\n",
    "2. 피보나치 수열"
   ]
  },
  {
   "cell_type": "code",
   "execution_count": 101,
   "metadata": {
    "scrolled": true
   },
   "outputs": [
    {
     "name": "stdout",
     "output_type": "stream",
     "text": [
      "1\n",
      "6\n",
      "120\n"
     ]
    }
   ],
   "source": [
    "# 팩토리얼 구현하기\n",
    "def factorial(n):\n",
    "    f = 1\n",
    "    for i in range(1, n+1):\n",
    "        f = f * i\n",
    "    return f\n",
    "\n",
    "print(factorial(1))\n",
    "print(factorial(3))\n",
    "print(factorial(5))"
   ]
  }
 ],
 "metadata": {
  "kernelspec": {
   "display_name": "Python 3",
   "language": "python",
   "name": "python3"
  },
  "language_info": {
   "codemirror_mode": {
    "name": "ipython",
    "version": 3
   },
   "file_extension": ".py",
   "mimetype": "text/x-python",
   "name": "python",
   "nbconvert_exporter": "python",
   "pygments_lexer": "ipython3",
   "version": "3.8.3"
  },
  "toc": {
   "base_numbering": 1,
   "nav_menu": {},
   "number_sections": true,
   "sideBar": true,
   "skip_h1_title": false,
   "title_cell": "Table of Contents",
   "title_sidebar": "Contents",
   "toc_cell": false,
   "toc_position": {},
   "toc_section_display": true,
   "toc_window_display": true
  }
 },
 "nbformat": 4,
 "nbformat_minor": 4
}
